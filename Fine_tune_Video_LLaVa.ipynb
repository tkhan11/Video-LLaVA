{
  "cells": [
    {
      "cell_type": "markdown",
      "source": [
        "<a href=\"https://colab.research.google.com/drive/1tmjp68IcCnLYASeW8Hg5pHyMdeQCIwP-?usp=sharing\" target=\"_parent\"><img src=\"https://colab.research.google.com/assets/colab-badge.svg\" alt=\"Open In Colab\"/></a>"
      ],
      "metadata": {
        "id": "ltgr0WOdmMRF"
      }
    },
    {
      "cell_type": "markdown",
      "metadata": {
        "id": "SqMsvBANlvDv"
      },
      "source": [
        "## Prerequisites\n",
        "Before we start, make sure you have the following:\n",
        "\n",
        "- Access to a GPU (preferably A100 since videos require high sequence lengths).\n",
        "- Familiarity with Hugging Face’s Transformers library.\n",
        "- Pre-install necessary packages by running the below."
      ]
    },
    {
      "cell_type": "code",
      "execution_count": null,
      "metadata": {
        "id": "-T8dupbwlvDx"
      },
      "outputs": [],
      "source": [
        "!pip install -U -q transformers accelerate bitsandbytes peft dataset\n",
        "!pip install -q av\n",
        "!pip install -q lightning"
      ]
    },
    {
      "cell_type": "markdown",
      "metadata": {
        "id": "xTG2AJZT89qk"
      },
      "source": [
        "## Fine-tune VIdeo-LLaVa on MMBench dataset\n",
        "\n",
        "In this notebook, we are going to fine-tune the [Video-LLaVa](https://huggingface.co/docs/transformers/main/en/model_doc/video_llava) model on [MMBench](https://huggingface.co/datasets/OpenGVLab/MVBench) dataset which is comprised of various video-related tasks. Note that MMBench is quite small and is not made for tuning. Make sure to choose a bigger dataset for your own use-case.\n",
        "\n",
        "Video-LLaVa is an open-source multimodal model that can accept both, images and videos as input in an interleaved manner. The model architecture is pretty much similar to [LLaVa](https://huggingface.co/docs/transformers/main/en/model_doc/llava). However Video-LLaVa leverages a new universal visial encoder to seemlessly handle both visual modes. As we'll see, fine-tuning these various models is pretty similar as their API is mostly the same.\n",
        "\n",
        "The goal for the model in this notebook is to answer given multiple choice questions basedd on the video. The questions can be realetd to temporal aspects of the video, pose prediction and so on.\n",
        "Sources:\n",
        "\n",
        "* Video-LLaVa [documentation](https://huggingface.co/docs/transformers/main/en/model_doc/video_llava)\n",
        "* Video-LLaVa [checkpoint on the hub](https://huggingface.co/LanguageBind/Video-LLaVA-7B-hf)\n",
        "\n",
        "**Note: this notebook is a direct adaptation of Niels' [LLaVa notebook](https://github.com/NielsRogge/Transformers-Tutorials/blob/master/LLaVa/Fine_tune_LLaVa_on_a_custom_dataset_(with_PyTorch_Lightning).ipynb).**"
      ]
    },
    {
      "cell_type": "markdown",
      "metadata": {
        "id": "Szf17AKL89qm"
      },
      "source": [
        "## Define variables\n",
        "\n",
        "We'll first set some variables useful througout this notebook and doo all the necessary imports."
      ]
    },
    {
      "cell_type": "code",
      "execution_count": null,
      "metadata": {
        "id": "LJtnWc3b89qn",
        "outputId": "8306b1f9-be6b-4083-f1c7-429a21984f96"
      },
      "outputs": [
        {
          "name": "stderr",
          "output_type": "stream",
          "text": [
            "2024-05-22 18:06:06.577404: I tensorflow/core/platform/cpu_feature_guard.cc:182] This TensorFlow binary is optimized to use available CPU instructions in performance-critical operations.\n",
            "To enable the following instructions: AVX2 FMA, in other operations, rebuild TensorFlow with the appropriate compiler flags.\n",
            "2024-05-22 18:06:07.308550: W tensorflow/compiler/tf2tensorrt/utils/py_utils.cc:38] TF-TRT Warning: Could not find TensorRT\n"
          ]
        }
      ],
      "source": [
        "import os\n",
        "import av\n",
        "import re\n",
        "import bisect\n",
        "import shutil\n",
        "import numpy as np\n",
        "from nltk import edit_distance\n",
        "\n",
        "from transformers import AutoProcessor\n",
        "from transformers import BitsAndBytesConfig, VideoLlavaForConditionalGeneration\n",
        "from peft import LoraConfig, prepare_model_for_kbit_training, get_peft_model\n",
        "\n",
        "import torch\n",
        "from torch.utils.data import Dataset\n",
        "from torch.utils.data import DataLoader\n",
        "from huggingface_hub import snapshot_download\n",
        "from datasets import load_dataset, concatenate_datasets\n",
        "\n",
        "import lightning as L\n",
        "from lightning.pytorch.callbacks.early_stopping import EarlyStopping\n",
        "\n",
        "\n",
        "MAX_LENGTH = 256\n",
        "MODEL_ID = \"LanguageBind/Video-LLaVA-7B-hf\"\n",
        "REPO_ID = \"RaushanTurganbay/VideoLLava-demo\" # Change to your hf-hub repo\n",
        "\n",
        "USE_LORA = False\n",
        "USE_QLORA = True"
      ]
    },
    {
      "cell_type": "markdown",
      "metadata": {
        "id": "WNZQ3imilvDz"
      },
      "source": [
        "We will start vy downloading and processing the dataset. Even though MMBench is a small dataset, it still requires around 100GB to store the videos, so make sure you have enough free space.\n",
        "\n",
        "First, we will use this mapping to get the datasets because each one is a separate subset in its own folder. Then we need a few helper functions to download videos and process them to fit the model's format (8 frames each video) ."
      ]
    },
    {
      "cell_type": "code",
      "execution_count": null,
      "metadata": {
        "id": "PZGzYh7KlvDz"
      },
      "outputs": [],
      "source": [
        "config2path = {\n",
        "    \"object_interaction\": \"star/Charades_v1_480\",\n",
        "    \"action_sequence\": \"star/Charades_v1_480\",\n",
        "    \"action_prediction\": \"star/Charades_v1_480\",\n",
        "    \"moving_count\": \"clevrer/video_validation\",\n",
        "    \"moving_attribute\": \"clevrer/video_validation\",\n",
        "    \"object_existence\": \"clevrer/video_validation\",\n",
        "    \"moving_direction\": \"clevrer/video_validation\",\n",
        "    \"counterfactual_inference\": \"clevrer/video_validation\",\n",
        "    \"unexpected_action\": \"FunQA_test/test\",\n",
        "    \"episodic_reasoning\": \"tvqa/frames_fps3_hq\",\n",
        "    \"action_antonym\": \"ssv2_video\",\n",
        "    \"scene_transition\": \"scene_qa/video\",\n",
        "    \"fine_grained_pose\": \"nturgbd\",\n",
        "    \"object_shuffle\": \"perception/videos\",\n",
        "    \"state_change\": \"perception/videos\",\n",
        "    \"character_order\": \"perception/videos\",\n",
        "    \"action_localization\": \"sta/sta_video\",\n",
        "    \"fine_grained_action\": \"Moments_in_Time_Raw/vi\",\n",
        "    \"egocentric_navigation\": \"vlnqa\",\n",
        "}"
      ]
    },
    {
      "cell_type": "code",
      "execution_count": null,
      "metadata": {
        "id": "yVdfSXMGlvDz"
      },
      "outputs": [],
      "source": [
        "def read_video_pyav(video_path, start, end):\n",
        "    \"\"\"Reads a video for given start-end timestamps interval and uniformly samples 8 frames of it\"\"\"\n",
        "    container = av.open(video_path)\n",
        "    video = container.streams.get(0)[0]\n",
        "\n",
        "    av_timestamps = [\n",
        "        int(packet.pts * video.time_base) for packet in container.demux(video) if packet.pts is not None\n",
        "    ]\n",
        "\n",
        "    av_timestamps.sort()\n",
        "    start_id = bisect.bisect_left(av_timestamps, start)\n",
        "    end_id = bisect.bisect_left(av_timestamps, end)\n",
        "\n",
        "    # in case it is a very short video, lets take a longer duration and sample\n",
        "    if end_id  - start_id < 10:\n",
        "        end_id += 10\n",
        "        start_id -= 10\n",
        "\n",
        "    end_id = min(len(av_timestamps) - 1, end_id)\n",
        "    start_id = max(1, start_id)\n",
        "    indices = np.linspace(start_id, end_id, 8).astype(int)\n",
        "\n",
        "    frames = []\n",
        "    container.seek(0)\n",
        "    for i, frame in enumerate(container.decode(video=0)):\n",
        "        if i > end_id:\n",
        "            break\n",
        "        if i >= start_id and i in indices:\n",
        "            frames.append(frame)\n",
        "    assert len(frames) == 8, f\"Got {len(frames)} frames but should be 8. Check the indices: {indices};, start_id: {start_id}, end_id: {end_id}. Len of video is {len(av_timestamps)} frames.\"\n",
        "    return np.stack([x.to_ndarray(format=\"rgb24\") for x in frames])"
      ]
    },
    {
      "cell_type": "code",
      "execution_count": null,
      "metadata": {
        "id": "X9-8O207lvD0"
      },
      "outputs": [],
      "source": [
        "def collate_read_video(example, path):\n",
        "    # Some datasets have a start-end interval, so we try to get it if exists. Otherwise just set a very large end timestamp\n",
        "    clip = read_video_pyav(f'{path}/{example[\"video\"]}', example.get(\"start\", 1), example.get(\"end\", 1e+10))\n",
        "    example[\"clip\"] = clip\n",
        "    return example"
      ]
    },
    {
      "cell_type": "code",
      "execution_count": null,
      "metadata": {
        "colab": {
          "referenced_widgets": [
            "321b49438e534f3a881e10f7de9528bb"
          ]
        },
        "id": "BMNQND-ilvD0",
        "outputId": "b6ebfc90-1a0e-4a4b-c494-2f9aa0a56a2d"
      },
      "outputs": [
        {
          "data": {
            "application/vnd.jupyter.widget-view+json": {
              "model_id": "321b49438e534f3a881e10f7de9528bb",
              "version_major": 2,
              "version_minor": 0
            },
            "text/plain": [
              "Fetching 40 files:   0%|          | 0/40 [00:00<?, ?it/s]"
            ]
          },
          "metadata": {},
          "output_type": "display_data"
        }
      ],
      "source": [
        "# Download the videos from datasets repo and unzip. Make sure you have enough free space before downloading and unzipping\n",
        "videos = snapshot_download(repo_id=\"OpenGVLab/MVBench\", allow_patterns=\"*\", repo_type=\"dataset\")\n",
        "for zip_file in os.listdir(f\"{videos}/video\"):\n",
        "    if zip_file.endswith(\".zip\"):\n",
        "        shutil.unpack_archive(f\"{videos}/video/{zip_file}\", f\"{videos}/videos_unzipped/\")"
      ]
    },
    {
      "cell_type": "code",
      "execution_count": null,
      "metadata": {
        "scrolled": true,
        "id": "yD9StuiIlvD0"
      },
      "outputs": [],
      "source": [
        "# Load each config and save in a mapping\n",
        "config2ds = {}\n",
        "for config, path in config2path.items():\n",
        "    ds = load_dataset(\"OpenGVLab/MVBench\", config, split=\"train\")\n",
        "    ds = ds.map(collate_read_video, batched=False, fn_kwargs={\"path\": f\"{videos}/videos_unzipped/{path}\"})\n",
        "    config2ds[config] = ds"
      ]
    },
    {
      "cell_type": "code",
      "execution_count": null,
      "metadata": {
        "id": "GRTrOYp6lvD0",
        "outputId": "7c90aeec-491a-4f00-de39-43aa0d8d2546"
      },
      "outputs": [
        {
          "name": "stderr",
          "output_type": "stream",
          "text": [
            "You set `add_prefix_space`. The tokenizer needs to be converted from the slow tokenizers\n",
            "You are using the default legacy behaviour of the <class 'transformers.models.llama.tokenization_llama.LlamaTokenizer'>. This is expected, and simply means that the `legacy` (previous) behavior will be used so nothing changes for you. If you want to use the new behaviour, set `legacy=False`. This should only be set if you understand what it means, and thoroughly read the reason why this was added as explained in https://github.com/huggingface/transformers/pull/24565\n",
            "Special tokens have been added in the vocabulary, make sure the associated word embeddings are fine-tuned or trained.\n"
          ]
        }
      ],
      "source": [
        "processor = AutoProcessor.from_pretrained(MODEL_ID)\n",
        "processor.tokenizer.padding_side = \"right\" # during training, one always uses padding on the right"
      ]
    },
    {
      "cell_type": "markdown",
      "metadata": {
        "id": "rtxYp7h2lvD0"
      },
      "source": [
        "## Custom Dataset Class\n",
        "\n",
        "In the next step, we'll define a custom dataset class and the necessary functions to prepare our data for fine-tuning the Video-LLaVA model. The VideoLlavaDataset class extends the [PyTorch Dataset](https://pytorch.org/tutorials/beginner/basics/data_tutorial.html) class to facilitate loading and processing \"MMBench\". This class will handle the conversion of dataset samples into the format required for training and evaluation by preparing a prompt and making array from videos.\n",
        "\n",
        "NOTE: Video-LLaVa accepts videos in one of the following formats:\n",
        "- an array or tensor of shape: (batch-size, frames, channel, height, width) where batch-size is an optional dimension\n",
        "- a list of arrays of shape: (frames, channel, height, width)\n",
        "- a nested list of video frames, where each frame is an image\n",
        "\n",
        "\n",
        "Next, we define collate functions to handle the batching of data during training and evaluation. These functions ensure that the input data is properly formatted and padded.\n",
        "\n",
        "It's only here that we're going to use the processor to turn the (video, target token sequence) into the format that the model expects (which is pixel_values, input_ids etc.). The reason we do that here is because it allows for dynamic padding of the batches: each batch contains ground truth sequences of varying lengths. By only using the processor here, we will pad the input_ids up to the largest sequence in the batch.\n",
        "\n",
        "We also decide to limit the length of the text tokens (input_ids) to a max length due to memory constraints, feel free to expand if your target token sequences are longer (I'd recommend plotting the average token length of your dataset to determine the optimal value).\n",
        "\n",
        "The formatting of the input_ids is super important: we need to respect a so-called [chat template](https://huggingface.co/docs/transformers/main/en/chat_templating). As of now, Video-LLaVa does not yet support chat templates, so we manually write down the prompt in the correct format (which starts with USER and ends with ASSISTANT).You could also omit this and just train the model on (video, instruction) pairs without text prompt.\n",
        "\n",
        "Labels are created for the model by simply copying the inputs to the LLM (input_ids), but with padding tokens replaced by the ignore index of the loss function. This ensures that the model doesn't need to learn to predict padding tokens (used to batch examples together).\n",
        "\n",
        "Why are the labels a copy of the model inputs, you may ask? The model will internally shift the labels one position to the right so that the model will learn to predict the next token. This can be seen here.\n",
        "\n",
        "The collate function for evaluation is different, since there we only need to feed the prompt to the model, as we'll use the `generate()` method to autoregressively generate a completion."
      ]
    },
    {
      "cell_type": "code",
      "execution_count": null,
      "metadata": {
        "id": "un_H3-pPlvD0"
      },
      "outputs": [],
      "source": [
        "class VideoLlavaDataset(Dataset):\n",
        "    \"\"\"\n",
        "    PyTorch Dataset for VideoLlavaDataset. This class takes a HuggingFace Dataset as input.\n",
        "    \"\"\"\n",
        "\n",
        "    def __init__(\n",
        "        self,\n",
        "        dataset: str,\n",
        "    ):\n",
        "        super().__init__()\n",
        "        self.dataset = dataset\n",
        "        self.id2choice = {0: \"A\", 1: \"B\", 2: \"C\", 3: \"D\"}\n",
        "\n",
        "    def __len__(self) -> int:\n",
        "        return len(self.dataset)\n",
        "\n",
        "    def __getitem__(self, idx: int):\n",
        "        sample = self.dataset[idx]\n",
        "        # cast to np because ds.map() casted everything to list, and the processor does not work list format\n",
        "        clip = np.array(sample[\"clip\"])\n",
        "\n",
        "        question, candidates = sample[\"question\"], sample[\"candidates\"]\n",
        "        answer = candidates.index(sample[\"answer\"])\n",
        "        answer = self.id2choice[answer]\n",
        "\n",
        "        mult_choice = \"\"\n",
        "        for i, choice in enumerate(candidates):\n",
        "            mult_choice += f\"{self.id2choice[i]}. {choice}; \"\n",
        "\n",
        "        # Prepare a prompt template, can be changed depeding on the dataset and use-cases\n",
        "        prompt = f\"USER: <video>\\nAnswer the following multiple choice question based on the video. \" \\\n",
        "                f\"Question: {question}\\n {mult_choice}\\n ASSISTANT: Answer: {answer}\"\n",
        "\n",
        "        return prompt, clip"
      ]
    },
    {
      "cell_type": "code",
      "execution_count": null,
      "metadata": {
        "id": "AQ6rlxudlvD1"
      },
      "outputs": [],
      "source": [
        "def train_collate_fn(examples):\n",
        "    videos = []\n",
        "    texts = []\n",
        "    texts, videos = list(zip(*examples))\n",
        "\n",
        "    batch = processor(text=texts, videos=videos, padding=True, truncation=True, max_length=MAX_LENGTH, return_tensors=\"pt\")\n",
        "\n",
        "    labels = batch[\"input_ids\"].clone()\n",
        "    labels[labels == processor.tokenizer.pad_token_id] = -100\n",
        "    batch[\"labels\"] = labels\n",
        "\n",
        "    input_ids = batch[\"input_ids\"]\n",
        "    attention_mask = batch[\"attention_mask\"]\n",
        "    pixel_values_videos = batch[\"pixel_values_videos\"]\n",
        "    labels = batch[\"labels\"]\n",
        "\n",
        "    return input_ids, attention_mask, pixel_values_videos, labels\n",
        "\n",
        "\n",
        "def eval_collate_fn(examples):\n",
        "    # We only feed the prompt to the model\n",
        "    videos = []\n",
        "    texts = []\n",
        "    texts, videos = list(zip(*examples))\n",
        "    texts = [text[:-2] for text in texts]\n",
        "\n",
        "    batch = processor(text=texts, videos=videos, padding=True, truncation=True, max_length=MAX_LENGTH, return_tensors=\"pt\")\n",
        "\n",
        "    input_ids = batch[\"input_ids\"]\n",
        "    attention_mask = batch[\"attention_mask\"]\n",
        "    pixel_values_videos = batch[\"pixel_values_videos\"]\n",
        "    answer_choice = [texts[-1] for text in texts]\n",
        "\n",
        "    return input_ids, attention_mask, pixel_values_videos, answer_choice"
      ]
    },
    {
      "cell_type": "markdown",
      "metadata": {
        "id": "0sH2oWArlvD1"
      },
      "source": [
        "## Combining and Splitting the Dataset\n",
        "We'll combine multiple datasets, shuffle them, and then split them into training and test sets. This ensures that our model is trained on a diverse and representative sample of the data.\n",
        "\n",
        "As oftentimes, we get a DatasetDict which is a dictionary containing 3 splits, one for training, validation and testing. Each split has 2 features, an image and a corresponding ground truth.\n",
        "\n",
        "Let's check the some training example:"
      ]
    },
    {
      "cell_type": "code",
      "execution_count": null,
      "metadata": {
        "id": "DenEK2IqlvD1"
      },
      "outputs": [],
      "source": [
        "datasets_combined = concatenate_datasets(list(config2ds.values()))\n",
        "datasets_combined = datasets_combined.shuffle(seed=42)\n",
        "dataset = datasets_combined.train_test_split(test_size=0.2)"
      ]
    },
    {
      "cell_type": "code",
      "execution_count": null,
      "metadata": {
        "id": "qZb9QggAlvD1",
        "outputId": "7db0044a-aa9e-4d42-f3ff-10e995131831"
      },
      "outputs": [
        {
          "data": {
            "text/plain": [
              "DatasetDict({\n",
              "    train: Dataset({\n",
              "        features: ['video', 'question', 'end', 'candidates', 'accurate_end', 'accurate_start', 'start', 'answer', 'clip'],\n",
              "        num_rows: 1280\n",
              "    })\n",
              "    test: Dataset({\n",
              "        features: ['video', 'question', 'end', 'candidates', 'accurate_end', 'accurate_start', 'start', 'answer', 'clip'],\n",
              "        num_rows: 320\n",
              "    })\n",
              "})"
            ]
          },
          "execution_count": 12,
          "metadata": {},
          "output_type": "execute_result"
        }
      ],
      "source": [
        "dataset"
      ]
    },
    {
      "cell_type": "code",
      "execution_count": null,
      "metadata": {
        "id": "X_DDgpOulvD1"
      },
      "outputs": [],
      "source": [
        "%matplotlib inline\n",
        "\n",
        "from matplotlib import pyplot as plt\n",
        "from matplotlib import animation\n",
        "from IPython.display import HTML\n",
        "\n",
        "\n",
        "example = dataset['train'][0]\n",
        "clip = example[\"clip\"]"
      ]
    },
    {
      "cell_type": "code",
      "execution_count": null,
      "metadata": {
        "id": "aLtCWizwlvD1",
        "outputId": "cefb5908-d399-4d7a-de9b-6d323f4a847a"
      },
      "outputs": [
        {
          "data": {
            "text/html": [
              "<video width=\"640\" height=\"480\" controls autoplay loop>\n",
              "  <source type=\"video/mp4\" src=\"data:video/mp4;base64,AAAAHGZ0eXBNNFYgAAACAGlzb21pc28yYXZjMQAAAAhmcmVlAACL3G1kYXQAAAKvBgX//6vcRem9\n",
              "5tlIt5Ys2CDZI+7veDI2NCAtIGNvcmUgMTU1IHIyOTE3IDBhODRkOTggLSBILjI2NC9NUEVHLTQg\n",
              "QVZDIGNvZGVjIC0gQ29weWxlZnQgMjAwMy0yMDE4IC0gaHR0cDovL3d3dy52aWRlb2xhbi5vcmcv\n",
              "eDI2NC5odG1sIC0gb3B0aW9uczogY2FiYWM9MSByZWY9MyBkZWJsb2NrPTE6MDowIGFuYWx5c2U9\n",
              "MHgzOjB4MTEzIG1lPWhleCBzdWJtZT03IHBzeT0xIHBzeV9yZD0xLjAwOjAuMDAgbWl4ZWRfcmVm\n",
              "PTEgbWVfcmFuZ2U9MTYgY2hyb21hX21lPTEgdHJlbGxpcz0xIDh4OGRjdD0xIGNxbT0wIGRlYWR6\n",
              "b25lPTIxLDExIGZhc3RfcHNraXA9MSBjaHJvbWFfcXBfb2Zmc2V0PS0yIHRocmVhZHM9MTUgbG9v\n",
              "a2FoZWFkX3RocmVhZHM9MiBzbGljZWRfdGhyZWFkcz0wIG5yPTAgZGVjaW1hdGU9MSBpbnRlcmxh\n",
              "Y2VkPTAgYmx1cmF5X2NvbXBhdD0wIGNvbnN0cmFpbmVkX2ludHJhPTAgYmZyYW1lcz0zIGJfcHly\n",
              "YW1pZD0yIGJfYWRhcHQ9MSBiX2JpYXM9MCBkaXJlY3Q9MSB3ZWlnaHRiPTEgb3Blbl9nb3A9MCB3\n",
              "ZWlnaHRwPTIga2V5aW50PTI1MCBrZXlpbnRfbWluPTEwIHNjZW5lY3V0PTQwIGludHJhX3JlZnJl\n",
              "c2g9MCByY19sb29rYWhlYWQ9NDAgcmM9Y3JmIG1idHJlZT0xIGNyZj0yMy4wIHFjb21wPTAuNjAg\n",
              "cXBtaW49MCBxcG1heD02OSBxcHN0ZXA9NCBpcF9yYXRpbz0xLjQwIGFxPTE6MS4wMACAAAAn5WWI\n",
              "hAA7//73Tr8Cm0WXagOTc/3D7mmxC3F/4QvhUrgAAAMAAAMAAAMAwdjfXVLxrZ1mgAAAL2AI2DJh\n",
              "yBhkf4TgIMAAm3gEvAPUg1pqH3/C3RZLYGib10t4j2HVSi2NCUKXr3O8IjCVYcRn4tyMnL6/cDmw\n",
              "WY3G9ntgGDVhdTPZ5O0py1+6+Asg4/xitkWZah6uHw1YQn26l83m+2nLGP9zZVb1+KqIJUNOa5O+\n",
              "1yT59g9KaVRyemgVhEY3peFkAZM+mcbwr35a0kS19JfvijY7snH0GCfzXWS+Qs3h28Icvvc3sE/6\n",
              "cGOYmdXT0URc28aJSSJLXJoZsLVwvu88WFPb7wMOwGqMRQKZvSVxfcy/gNdFeKEqleA/6rlYjMht\n",
              "Kzm/UeQhmLNQKC4jfcLXPfLTHkgPQ5QWiFVdblhgw1UeIZaYeB77991Vx+PGoLqU3W9fkOIL/cwO\n",
              "nd9PIucjnPWj1eBQxevoNW0mH2/rVdUDtMP1J/tFkv/m+qUc0Mk+c8PSdevk5CtutMnU8JsqJBCv\n",
              "H6tKI9OdR04zJclFXJXjxJ7LOIBRIWErpuzJgY6vhXwPB/tmoYb8ACGK1A2Vf1WkssUocZFkcc8+\n",
              "ej++k1MKMhE3i48Yl4V1oY9DBw+VVLvI/dZezDgYpwuei/JyjqzFjicx0oh3hOvjvfsAg5fUIu6h\n",
              "ucTIPDoiXxLICHEk6BO7kjHN43NWHHjc8fvUNI3+Ymj0srULo8/EwGy6+XsmhdxtWgAuiF0Qns2t\n",
              "foGjl+gZ3f76ZKGtMOMGI3IOEqlZ+a1ykZ5QUy3SFj7IHfDMQpV27pNg38fkBM8t3qGHyEoj0opT\n",
              "ut78ij+o+BIwEXQzwaGIDJHOx2dLFYwSp1G7EMsqNU4AW827a92oEzkIP3GnRz5RmguxBUxmB2ls\n",
              "/WpNXRfeg4j5SEA3GDkjGJUAjW2aIw9Ph1n7OFUniXffhqx0T3iv9WpFNSl/iOV08c6w83vQv4rP\n",
              "Igk9mGqj6S+h1BeIASzjeH1YPe6Gy3zvFSLGs9kU1U4ZGMs3KGqhKBaMWMwQNzfw1+wU9Wh6zS6d\n",
              "ERdx2dPEO3D1GJ5HDJQhCl80ayWWX2L2v1hIxkq451g0V5vw1Wg4xCq/t4aIGdVBycUyE5/BwfUt\n",
              "M90jS999BZqNS2KOLpOUMxMw+0RFjyMtK3GFi3R/bZ0PqeWTMLyun6iIOYteJwo2rJBmfucqxh7R\n",
              "6+DMGeyOUSCIF2/M84UD0ZL0Y8wf5FBbAJKumETCnA8rxAZOjI7aALX5YlGDu7eeu5hoaKULMIat\n",
              "HgHJp7srCkPulkvdsDddY1bj7onrLLTgzdzV1uTSohjz/C1K7COjVxQm5NqbYgUykTrrKJPfYuRV\n",
              "L/jBsM7eBOXy9Sn3x+LvTxljhxZPbl3lrtgUro/b+cnKkETFnzPp7nXpVKMtch14VL3ZQqIDtKBm\n",
              "Jb4HzJ60X/f3jTIMK9BLvLcqChUg+oLggSqvX9otY/6xQ+BM8BAXR5sLnSa+Mv07O+FU7+ygzfT7\n",
              "Lxt495hfh0ofhSG5MRJMFzOJvOxVoWoQguuKQk5Oi+2C8+tbOvvQpvfGugwlA4EePCHnr+ucIUMT\n",
              "w+4RtekRevrH6v/Kl/ayVFGUHgZ5vwlCJVHTwmwx3BpZYuCUgqu99cvQSrLdWyOpeHddYwXn4sZF\n",
              "ioMYE1/IgUTCrybDT9k1md7uSLIqx0FQRgauJ59EKG8SQM7cKKjqtqefflxKsAdI6mqPrlSjPDgd\n",
              "B4uaW58d/2cJBqNtSr90hUCUJ0fSAphPQNoyIevr6QJq5MJhIOvvILqudTMAGuZirUvvnbF1LBSa\n",
              "RePPAqvMdYSwmmSqeKRFFGRtbumBedMLEmhE6Y9sHDP7Uaw1/hkqqXZW7JTfvenopwQW478kEp0y\n",
              "OVlWF+QfyBhaHC6CQ3pQ0DkeFwmua4idSnr/RgtSlMJIH/wmgIyqN9kcgShmRXGdncjFb98hDqqN\n",
              "tfFBImueAQQc5svpWO5HMgsVfZtU47ZPpsYt2k0KIAG9CJPWrb+t4TG3Qy7OcP/oiIR5r7cvsxF/\n",
              "Qq4ikiWq4x409v8Vhhh7nbFmzD8MCdpiAtwuRirW07LTDV4iWVAeSpMiHSE4qDdz5I0/rh8EjJEV\n",
              "IjdaYZLPCFRifZynyNJjc8DBHltwZEIpc4zXEKOWO2mrx16yzVft+05b3DsLiwahLyhPsSXJxC+i\n",
              "TeloSXYZTfA8HDUbxdS7g75sFnqHHFPnUrix7uptK3NntSCDAaJgkAPT4JBT8/tagojuhlRTNYyJ\n",
              "T85fbr8N/YGhMtdAUOHFWB6j4Mk/hl4U/2EDUTPvnAFBl8WkST42lVQUSNqGbgpvaRw7MDLbNvqQ\n",
              "FE6yx2VsfCYQvIzQoa7knTFOy7o4kzM83D0VTwCKifCGXKnVn5ZWGFYvM1/VsCpUJ/BynFB59X7S\n",
              "162kaMLVICKb0+6RBGHWGlyVKfNVU54zQBlqSTHRl+shzjgw1KemWEIHTricK4K88Xqlrn9jF1ho\n",
              "F7Q49AfybZ8awWm0ZXERvmRl9xYWMbAGT4HXVKWFjKkFUS0Dev7oWt/GVfKEPa4uQhzjTKPja/mQ\n",
              "WEAM8xrdP/DTteM4xblEU0g4UHHiAQ+7MpK/3vDJlW2W/bAkcMdieQzmrjiJIihrS43RmQvcIFFb\n",
              "Pi1QB3Dd9NdO5S01HqRj9XInueCeGUMfCkWvDTCfWl/C5qeL9HvFVGkZwnuQLA7o/Pjv9vRjV4Lr\n",
              "4OH3Q4kSnIWJ/f5wlDgGOmt+tu1gZjb+PmXCScJU2fwOfzg3+DrKJaZRtWWwG6lbQhbp3/2jawiM\n",
              "fFVuaVPvJGhUZPhnjAbjxqqbi32ZybAt4yAWIHySFz9+LwehGgxn3ViBy14r7LSfH/YkdUejacWH\n",
              "KKDzuuRXbiy7Jmm2isXIt7Hv7YhKNKzuiqMoSw4wQP89U93HQ4kBbJZ2MJzoeDbpK74AgfhzfaGK\n",
              "RdL9X1NbjmagfXXbJEdvp8lZIFEHCSh2iDrScjkuSpz/g1ILvRD0bqBD0NzAGWDfxvvEgtRGvNoe\n",
              "W+YWvcPnDybC6MV7B59l8UzlRhf/JniC8vGqJQYXduTUyzbFpq6AJZjWBwwx0bOP7HawazqIkgYR\n",
              "EsqEUKhuymaNscVJBoOtw2+oqb5MjOkKGCf5X0/J7JX/tMR5UEsSHVNFOuFGF4EBBqjKWOq632jq\n",
              "zo969JvvSTaC/8m408YyQziU20vdST/6D4B3wqW07hQnej+vJ3uQOJsVRSa+o95TBSujCrkegiDy\n",
              "2hHaBhSAfUQwPXabI9ORZt/6phuMY+SD+G5zVteYN0W97yUiA5qkdS2sR5olHIQcSNabVR9AVxo5\n",
              "DMWVNKMkG/0veSCkAxTHW/Kldh5HAzTfdl/0v9TcQ6oUCr1Up8CmQXfOl/mSTkHXdhuAEL9rc3j1\n",
              "QlCl4nrD4bEuesFJZtE2wBl8pZdmhsr5S61UfihR5JcwfryLg1SWxpy2tNW76kMjWXGUvjLu5/nz\n",
              "tlTtIRmhuw9ZSxMGCO0NCf5vmISEveDHOJOj3YbrfJSXhwgGeewh4EueZ5eFLMldAP23ekOB+hfA\n",
              "fwEb7hGylA0EJFKTsEx1WEq5BIlvG+P4x3OGbnuI6dZnHEfHio8I8c1VjYZLsOaT6/TO98iyDNNC\n",
              "cPeJTTI8mtj47/ltjPvcWAaNUS3RZnBolr2l16oq2z+CX6RdwEJQdIBp0ltseUzcH2HMhzNNhTGl\n",
              "I7hSQuCYXmVfqrGKUVe7qyCmyCbZk9513AM5iPkZcQVIfyXOSMa2s9MWjw9htKSwe/EkZk70ztHC\n",
              "BS2ylkm+mXtke8kkL4ZfcecAeRQ0ejnrLdrIpvjhaqUBVMZJue1Lsc1/MbFVV2xwOvwA28LvA84t\n",
              "3WztNdARA9lcnSs4hMJ6+tu8uGNG3cieel1RYTZUIWU4ZYMAfEaM7OiUiKuFic1hN5r1Ft8RB+l9\n",
              "RAGBZF9yV06uioEAN67IiC3KIKq7C9NqAiaKMYm1DTw/ZouPGAnidrLoRtlXDDo4KjM7h9XLsrEN\n",
              "/dt1DhqPHUOw+GQNP0vMz+VvA1vzrXcU3L7I0+RJoEUrMTR2CiWdX5Qz7wVX0hT2ug75O0WEtbrK\n",
              "x5HukpSG0pI4UBdPhqd3P8TP9U8b8Q7NFAS5tdZDlXqFWxdCGc+5e7H7yQgfsnnzKBlShdyiEfOq\n",
              "hY+3FrX3rRGmy+KD/amCUjTkSloD56GIWeyB5vcgKL4skRQKWl/40gj7WTImXt9OzwD2qCxKX4RA\n",
              "yoFBrtkpFkKjVPR03xQzsYObK2v2AQM4QTaVql0C/CBnK2pieyOCQ17iqZHiMbsJ3Rfy6aYIHftV\n",
              "RmHZzKN1wopJcd/nT5xpxF+aALX0JWIIpm/vmF62D9FScEUvPg9g01rf+Eevk/RrrWk2azeZW3PA\n",
              "69zbVroYV1L0AO3lpPThmcOz79Y9VgHCpkgh9qflH06p48MNoYQE/w7SG4yg7PtlvYC6Q/SLjcVD\n",
              "Cb3e1bRqYdOXfo60+rPmm03G0N4CWMdacPAqqnw/KHwK/69Q0XIi6VcvrCuPkKX7KI/ODXStqkiv\n",
              "TYeGV8ljiFG+h0RDfjgk99MvrIJbfSL1iOmErBWFofaRMcRCO/vXwfKlWmuQs33qvp/c4/OIWBOX\n",
              "ieYoe+6dazyCZqGeiFsDfKIWaFff3LHi91wJdG8ZQL3weey9ObO0MtRyhZhA9cxPNjq+QhzlHcPB\n",
              "Bnn5kO9c5kKqUYGjabX8PkD4y+zVGLA6cdPWYe+00p9mjsm82HNGtwA+rUw5FQ9W5gNV3B6FE2No\n",
              "6mCutGacHN9UvcZzOab3z/rwE3oc+0vc13id+eHdfWXT/lw2WOXYLBA1/9WcNaC8j8vJ2tsp7Nd4\n",
              "6wXoxkGiGUxUbHYnhgg8X7OuBcx2jtzEIXFGZn/nJFtULIJs4JaZppankV8JUMgb/+ClZw0lsjsC\n",
              "usf0xLewntQ4RL+gVs+yK8Z+87CdjyxJPPItYpuqK9Ls9hYzCKL7luGKhUGo3Uc2wLUA/7b4rF3r\n",
              "SQRMU5LkTcL1GVvQ6FRbyF+y1HgOCmel+au8t5o+dvymy2AvXoUWXE//8OKiLdr1iGoX5jEyYs2j\n",
              "SZ5NjUp7c0nOKqKHD1c0skEz0V/I4EBIs5LStDD6788ejhdvJiUXmPqnOb81W+Quc7efs7pVwHdR\n",
              "2tZSxcBgBGCb5vZeAlc4Y+W+0X9LvOLazVGSth9oIDDly6p+gaDce8uSeqRdkvXZe2xfRnAg8hAf\n",
              "WO5oyYdbkm2eWL6o3HSPJHgPrX4VUaojFO+82DOULu4oMaMMFQTnhRtjBhZiV90rdPgIlqbpyA2i\n",
              "Tg5+w3AHs29Iel/FFfeiy7cSyz4tR2R7J+C25sHwMuqZ4fnLKokbfSRr5Q1Ie0mzYULiW4G1eTVp\n",
              "i1OBffJTO93tg4Zgbuy7GzF+v+rCIUVkHDTyBUpRl/Hn6aBM3YE7qXf66iHKlNWuQq4fsufecB3G\n",
              "G8OAZffFU5TGZ5JDdzIkxIfXzvnovDMDQ4nYVB9csU2dC7IanCPxf67SMb7FpXHkvtWflRqHh2YV\n",
              "1OLFEVE2ro1IrcZh+zRND/keFpIv4fndHZEtRF6tla2Edpj8Rb/+gNCFHuhiVJWS+hMTEmZjGn+3\n",
              "au8g2gctkKULDJhwYydKB7oBL4O8Cx1WAbSPR5NXxnlAIsfJ6Wn0k9wAlECpx3OqHgkzYCK1EuP6\n",
              "OY6JMMnRjN188rNCoUj+pKLQ6qoy7rP/JtIP+1FMjJsMWAmvzXYVxQDFedA+439dY2W7E8RBOibP\n",
              "Ij72mUpONaKHA9UdmmRcrv2doOq4m8eLv/SIBqlrdR/9eaucUHlnMMozkXb0HCzSnMsMBaV4Gr/5\n",
              "pcQeD6fn6VtKMO5b000tRCzN+JjNSRbrYZJboQTbapjNoyvx7kZftz59lcxJS6ho57Vcyi4YQdJZ\n",
              "aMkcPeV41EoPdiO57SdcgFMOudcUtLTCkswJ6gTdpL4VZabFYxLeyBjdVOUa0I9rF85CKAG/q6nG\n",
              "ix3/FpS/r7kGmT2VdLJeK+uQ2kHb0KpG0VEZZ2lZfz77N9I+c/ZFS8UpM+S/0eLq+qoJMFVIq9G0\n",
              "M1I5mkmWuNEfAqlWoAYnHUhqRWbZZW9Q93zR0MoulI9658ITMVrIpBCT/XV7djSwahG7LOc0keDE\n",
              "qnCgu4/9VCijAHViStHGU3WhSbjonHwGodfAwHxjAsjqQiu0ZBixqKTi2BegIMEbPIDIb8Huq42s\n",
              "g8Gz2GaruEYzKAABBysbeVScZYLHaSC32WWEuG++V7N9v3vqUa2+gYeahnGmMWjR40ZnvF6rVtF5\n",
              "9VmBLzz6DoWqxpwuRvrx/4p6fHd1nXmytLw93aeumPDQggh7b4QjKtK+Wz+yvZugeoqm5+8MeJz1\n",
              "O/MOarbGEEsys/tsq7oTElg+1wsZGRjRNdzM+4jszCwNHJLaVIDuaBzXVz2HqKuNAME+ULy2BYZc\n",
              "TFylMfAOiHy0x5hlCP7Jnz9y0ndTS0fNyMYrrdGSqVKlPIjAbT4p6KTnHOKxCskaUxryuBoHtRJo\n",
              "MOW6rMa2FWhecUvyD9wzoI7+ZAfkkoqkgHelXGwrVZa9rHGoa9e53SrJGs0HH89c75KAsiToq2NR\n",
              "AwGQo9qsJUvc5uLQsMNcRq7Va7x4YOEh32IYPyjtMcB+QmSGekgsjsIlHfCXOEAJSmXn25A4DLE7\n",
              "iycRYWYHAvS7LAcXQ8nu7LqN00sLZJNVcN/msiiPlQ7YEb9Qt5CLHSJ+5F1/QaZaFs4PS0SJLMCQ\n",
              "ZkBzbcIisGuR3oVXeLKVfDuQEvtbciMYnUKbCqUftJKWZFGhoTCsDfll2hP9HCgwsBNqyj583JC5\n",
              "GDpTnU+XNAvcqCSYPy1lt47VK/xhoEkDebz4D2tyD0bXguBHfkOUeoaITq4M19Tx9MVMeozNCanB\n",
              "6J1uEimRK9LwaHMzQ+jjr8mRN51pPSUB40azBJ9OAICeqZgv6IUqhCT3GSjMYtkMqJRi8GPXtHS4\n",
              "JkchgAyNAbOTR3XVsWn46b7r9eYlyXVWNDAS42HCz3gX6IL6V7/zQose+RpnrZTr7K56bZ2tWDAG\n",
              "OaBLS/u1vWLRQcwjRtvAc3vwPrRo3wjo2+81cazLhp9jaZKhbzhTaWsRoVdvlF4AIMjevZaGV3ii\n",
              "N7M1ioixhZtVqYYgE43k1tsILbMUUm6d6jyaV6kK/ahVq+5FmMgZVh4o+kajm8NiSa4A4bBjUeXa\n",
              "kmNchOkzKrAcDwLtf4Yl7iekdL4r8cPBjrRVM/SaYPtGCVSc9zXDIlh4z6gU8nAcZZEF7Vz1Gm88\n",
              "Q4uH2w91UfQvj+N/nORsDpJaKFQ7GmeXq570aqg2h81GvkFoYzSq7Yi+A+r55fco3Qw+Ojd2VGrw\n",
              "4aG296mMgsUPoc/jjonsbpiFPI3d1wCWqvuctkzPShT6DLLCvbaclH8xpW6LaaYeYHDBliWVZJp+\n",
              "3fBaIeU5Cetnb0LWyi8TKEimYcVOthSWn0Ca9Bq4ui1eldyYj435o3GssdPhnkeZv0RRT/t/OOHj\n",
              "oQrJ8WPUFKphA/MH0a6YZkvyqdPmxSSBzNGGcUfIYP3QqU4L0nEMt7CuoqibmTEopIZToL9kiTPb\n",
              "SQhUROgWI8rNPGH9soYVJSStvIinuLSwh2M2OAVJkDwMNyRiWS9GJP95cm5hz2OPlpWdcoAdyPxv\n",
              "2GWCB63XuXoI3Ym/lGLYD51NIo2XUVvvwg8VMFUuQpfAcKao6+h+Nyw6vQdXhVA5/81jP+7nNCqb\n",
              "E37lO/1KRZM8gzWG4r4Cj5DxvXmEX8d3cc+1w7tfSaLn4nWL3A76ZqpTLVJd0OSChxi6DZlDSr18\n",
              "8Y5oLRBymAlz5xTZY6eKUFjyCqfB4nHPtpr7wuhz51BScQpvYfffDBcx/yQBLFEPvbVAAWJx7+tn\n",
              "R0M1YnKGAW/j4YJwHy7ph14Ad5lc/n8qT+B8iGcdfGjl1WQ6fD7pUizqr1wjCGTKrvhGRcO+hKzs\n",
              "l2kn++x99z10sTKJIRiKcPDQ0opwdbm+ngwTT+wmUZkV5pnI8IO+kS0Rub5LCY5dRuGn2ivnSqG2\n",
              "MSFxHrUBr7fCisEAxdrjVWGrBIhAo5ngMI4nrdjFm4Mk1NsBTHe90pEsE7pjQxftxJ68UdLHWvXE\n",
              "/aaneFx8b9/vjKYQ0Y3iE2eW1cG03oSTOFxSVcoOJlY6IA0AzrnFu5VkjOX1AeKu6RqG7NVW1kM+\n",
              "U1lsZNjo1LnDjI5Vuzruzv2mKNuY2oBCrPlgBeEnV41v0hhmXUExZ43EJumP2uT5C7FXMd1OiRuw\n",
              "oz0E8u3WsP30tX6kd3VpYLF8DMpa+Kttt08zUCDXtzaP/KA4gTOMNBr+hvGMQRssu71xNaxur0se\n",
              "D2CFMOFq7TZ2P3wCIdvyUpllPLvh7ppCGkNgvJR7LTNCy40igLfaTVNmttSRdrshWwl6XWfl4rka\n",
              "xYGFK0sqdY2hkn58jpUN8L4pzXAJxEXSBWUTpRjym7EZQFmNJXXP8dI49e17FSv7F/gzkI9vA17G\n",
              "S3z9UUY9tPmyIXKJ1JAlFAE9Zsqhwl/5jryd/dReIYsCRbIjDWmY81fYD31Mza7wAIQzNlhTBDn5\n",
              "r7XRQiw4dGqmX2Y4V4nI94kKJ9t/raFvzYGyMmCWPiVn7YnKtThbdUBES7Cy53VnQ2aKyqoqIBfd\n",
              "ydl0Ub0TY7drzEUg+bCsp21THGOMaBLaLXUT+IdC1GdYqy92e0gxeqy9aG7w+aTD4fpch5lEvqrN\n",
              "5gr0dmm8UPiHd2vLYJCLU7YbIz4l4wibHcaSAnB2kTLkJjCICtYqPyoBsO7O55Ruv0xhTBt5xyUX\n",
              "cRu8V0bX9WAshIJ7yEhZALS6V7bajm/Ai24Wh4vsbfDeAbRjew2ystINFRZLTVWcxtY4yq19TU/i\n",
              "UKjmSad5ElKj6Lm0kIj3HteeKKLJFIDPNM+wHPaH7vLOksCgqsYF7piMgMePMmazn0aTXPBtCvpI\n",
              "t/yY+k2RicPEp4c8QHXpuugQAtc1BQNgV3LP4f7rS3op5FvkeVWcSkHUUvkps1sTygp0oSlvOTBG\n",
              "qZwb+egyuiwi6F2F8UBuQhQsqFN5XptOH+/9XXVhc2abKsaugCJXikm6NgDDFvE9rI1BhSModBpy\n",
              "irhnwOs/uTwUrrmY2s9vZRMUMFjGQO1y19tpv5/WJKGUwAxKnIiNo/1HtGp9UKl1QV4AadyZ6Yku\n",
              "/g7m2L1G+xrDttwkeni/UL/N3Pe0pnoKECA1xOfgC43Gk2YPbM7PaMEzeMYwqdRSsCKLX1/C4kCU\n",
              "0iwEAlGCMYPWZRcttjGi7h4mQdHneSXTH9Lb4AwObvUaTm6gbwZB8KccfiRFMK7/PhXxPMGN/s5L\n",
              "Yl83x2G6JXNG8kAW4JYZ65eHGDKKX8mgXGruA4yKhk5PK0GwQ9aV/f+1z39buivUE3IT/TJ+2L37\n",
              "bPz6a9+UCnGfkxIYnykk1sWs7AQwR81/4IX1H/3oJbIFTPSDIoky4DuS4HG53Ek7TP9ij0j7Zwwr\n",
              "CiEws0flSpFXr9ETjDWu4OvQSBiYFwnALU/ZDyfqbmUmq/gOqBiyr/RHATF4OKg0IQXJ12YePE9B\n",
              "glQ4ZkEgcELPlIISxo9vjWLeZH7PHbUXHw9h8bwbt4EsgHuo6cR/9r87RZLx5vElZZ2DO4lMQnja\n",
              "WCAj6RxfVX2RCTO9TG5RzT+/PVtXYj5101vkNodD3bXODRRXYhzCy7lC6NaeoPEod1HG9Pdwlfs/\n",
              "6k+FJ7AOs1hI1t5AwX/q/Te+ia3H62DWQn4hOyw6m7F40VwpZjaes8Wi5PmkyyeTWU+3WraXyr+K\n",
              "5A55BUa/tpSJqgH1NYabE5tZ3W/aYI0eWroumB7sYx3jbu7Ny8ZmSnQXgC5Sz1GYizRnhzUGyBJr\n",
              "fBlKqugSImUYRcCM1olWNYa0eBumkz83ngmHEmmn64YvMtVHEBvwiTXIAledgCwz+eDck8aICImM\n",
              "ntuklktum48IAGyoQ7auj26afYdEYlNvWGKl5OqdV1vJsSF2TheLFbPRlCUx5SLIjPYSYTEFNWqH\n",
              "dEJ9z9P53qPpM51lIAErywOdkFRp/oqpUze/IxtRYLkN1JtnnsfFkpAVougxq90z5h1nhZ0QxHdN\n",
              "dI3CqZj4WteJ/47muo76MoNIPdqJZjHSv48TEb+lu8wQ7VeVUJtxypk+yZjYUxP+/jyYy+x2aQHQ\n",
              "NTMpExC2tBKBiGCKQT7G8zTQqtqR57bfLaTZF6h1TrRkBsk1NGC2VkLjuLxUUJyM7J4N4jeX1nOp\n",
              "GTRLWyliWELAcy6c2QxMZvzawuhff/fLohG9SlfRFytlzB/tyDgcOgnH4NMAqFtp0sTcS5ed44We\n",
              "tgHe/hPw3O5tgMLwgeiko6z7WCOA1iyNR62xTY44PRWPYS0D0DUHcRcAyFPDX2j6/0y+IRgqGXNM\n",
              "qKLBOXq250ZEwOh7AOuKs6EwtpRI7js2rTcuEfoRS+4POGRX74qjokFtfnjjlE72Vb7t2nU7SSom\n",
              "XxC4lv4Vn2W1FJL518Kr7TcRbZIE1+evxQaC3o7Xzw2dqUUojJjmlmIuMFTblspDADSHwK9EhXFN\n",
              "sWmRYXwLGQT9554mZB5adzOHl1UmEGToq+a8OXbFkzcsT05bPUUszncXnaYBp0RDP5NCmZCX2zxL\n",
              "gRHK/94/AY6OIlUWn23P/ZzM54/8MWnT7QliPkz4BxiHkRVdgpZKc+evPOQxsEAMcLPlZHml9vEO\n",
              "Xp5BM8ZtHStW8yO7WWc/ZarSCKHf6ZT1aINlfvkA1CzMQD7GLdolwHgsv+Zio1PTpIjyT+VaGRx1\n",
              "C7gc5YcZ5ogylgaPObbX34v7+dAdVV1TvQBbCzYNX23/fQaUd388/Lbjkc7TZztgI8epunvw9E4S\n",
              "bDrdooAp/jNacABnytZdtxPIfUPg1QDkPORD1Y7KSNKQckwoSdNrUFLLztjwBh8fky7QiCOVay4P\n",
              "y5khpBoqxSJFFdWGobDwBBKa0qTK7aWYlmmsa7dURS1hYEsthyRFB2IjzKRZ4TU/TAkeOBlnVjZS\n",
              "jZFgsp/7oa0sn9BObnFhUw9KodXreQ9AZ9EXS5nhNTpZujmVLn6nV9nzfDCjsq2BBaovD9NkDvZp\n",
              "m8wH5yKoPL4m0TEHnPtAlJNBeKlKq3Ha/2OU69wDp+ZYw+sChheA04spA6nmNuEy4+J/0RMt057l\n",
              "Wx311+M+Z1NuIAOQlYUqT+Dlrda7ZSmOO8tgyhODS6D6Hek/nriOvbAKX8LAEoIUJWhg35RPmLh5\n",
              "DbEeACohc56n6Rx9R5WJXseU4nmJVOI+J5f0U34URvnJ8XwGnKRCfMC4ipNhICPOPcuXrRQdbkyj\n",
              "CAwihhirMG+75FQJvKhAKZvNX7TIALq0raFtr6ddEfeiKKt/BLCfC76A7HYx7WOApXPWt8G0H4Sx\n",
              "11tYXx4408QScwkhvZkbAa+mNi6itzakzMOcaLyQ504SsdkecWmkx0IjdljJVB8w1TY1S7MbqWfb\n",
              "AM+Atub9/DlhmqEVnk7zEEVkN82VSjpUl9jcSFNB6+f2ypf3GGwQrE4rBhAN5JuzMVDYD1k/ieID\n",
              "AYkBJXfVazlO9fDjVM39xG4gQDwWOr9spfDFOdkE/KZPtGxvHHVuMT7Bi4820GfuAer9lPUHg5NA\n",
              "YgR4e96AX/CEMoYukRnQctA8NZtSQ9URfHc68zEPHVStJU3Gv2VBhAAnVC5Fq3a0vo6p/okc2dwj\n",
              "l/9nzlXAjXZlS3A5Sng273TWhHvWJRWdGM2oYV64boY+f5RlUe3/nuYMSRdFbZmjalFsz9k/qzd8\n",
              "TjQYndYAChKcQPC4QJzUCRTb2CTmoLdizcj7bnVTPujCEF6Nifl0EW1to42u6NtKpj1bXfablLnn\n",
              "64wd9XB7L+9BuO4CwwPMa1XMeVUhFF+c5gP0Kv5aCJAe7Ae44HWGYwdpZdI5KqWtTpzgMVt+LzT3\n",
              "4FvtXdZPWlouC9xv4oNCXwtWrH1J85516XVHMNyoXzbEyeKf8DdeRCEFi3c3hgF2D2V2C3GRbVHQ\n",
              "SnG5Syt32MD22gQvu9K4/4kCuVziD+vV3Dkaj3iqcZThj2Y+qRAnejqK3oSFRyc68tUuDyuYkl2X\n",
              "WJjXAbcmsMHlNH2uBdO1QW0k4m3P/8Gai1QR8ReezLB8qdwTaxJoonWeEcd+0SXv+3Lg5jphiXhP\n",
              "Q33tpgOS4RrRavzarDLa9WynICqcYJyQ0sEmkLse0Ry+2GcsW84FZMrKk1VHBd61QE5RS3AycVex\n",
              "FxlDe3gHyt9qskqbuSS6goCp25SiGeURQh8wFMCUXV1kfe0xDf1KHtHoOdJea6tfn1I8n5LswWJn\n",
              "qH8uZA7mqBiPQgGQnI11Ic6KdafwbFypjEjlU/P/rdVjnsu5r1esJxLOhI7L1+3hyHPvp1pNgmgV\n",
              "eawYmzK6Yt3JDB6BdxmVpualVmY0yZW3MNTH8oJCz4I1u+zqvPbNVGzLkglCgMRQh3MGNK1Lin9i\n",
              "SYVVDxgIwxrlBrhjrfNuQwfKtxMTrc2w4bnRfltk1lJjh8YdD/E4lPzneDKzlGAaVNBk7G/26d+H\n",
              "S46CIScsBf4SIJKUvQO/oUKDycTOaK/+zd1frJRSLx0yCqvNphWRFtsGIoRYL9f2A6dambxbWVRl\n",
              "FragptNheb0VmOiulKRLVwFlKif7UOoFdq/Uf32RCbE5xKNdGe9eF7ed6GMUXZFozNnW1bbple9R\n",
              "0o/qR8SoOBj65D+A6z627I6lZ9TdBReLs0eGWbkwkC7GHnEapcyhPPZpXGaMICookEwjVixzCn25\n",
              "JaSCIHNIz20rJqjpX6JJJq5HDMh4tSrtf/hpNErugK4i7Vd4eHlucIuSQ1OXeACixgZL6VINDcBF\n",
              "Y7JVwGq4rZ1NSUpiKhMykm0hooecsjq6TfPev8fMoDgVQaTIUansEHmxxiWZFgs/t7tKziUTktYN\n",
              "iK84vkiRrlEzCkd16XECpDlSd4RjMThpgLDRjne13T6UmRChGpiQ/WN3bTX88V6mzXNgFWKMaUNH\n",
              "MlSV0k8mcJJ9YgnKLwmBWi5EIigMkhwJok8EY/QdSMKQfphZDb0L1ZPNLdWvBRHnOubzOo05eiuS\n",
              "KsF8myGhBconTxTvtdQOkbA9NutIIwp/i7m0TPyZlxmn2y+4PFEmlDsrrBR3GuPi/7MOjSH8Cq5l\n",
              "G4KjIHPq7b0AEQx/esCowGvBUr3E6CGAwrhDMdCHWvyFJWj7yrLu1gypVFR3PUgR116uMwEivxKu\n",
              "iGrsPImdUT3HMxK/ChXzJm//im3zmcnwXkPEOkI+GyHQ1yX+/42Jj5EK0HQQk5tyLJf3XkhYKi7d\n",
              "18sE8g5NzzYocznKuabTcIydE0G64GECAOlTQ7dqJhr8llfSeF4LrWQjDgwyAfO3Z/yeYQ+GKBnC\n",
              "1kOly3EEiJZ2r16vC7mlYIWvBfHy/GatISjPhM6aopB5wRqlUaXtEeEDGsqShkVvnS1yJ87J9sEh\n",
              "HlNmJW9zknGdemrfQYGEf/88W/yLqK1p5m3jxJ7Apobbn/5lYvF92kw1/u4uAEPBwL3hSoaDDIBr\n",
              "AA4N5i31ZDaAKudiXDsIOLeh9SkA3ka2QK2eKiWUkCIZQo9UQeZiEpjNKpbJ7yrrZiAIOAAAAwAA\n",
              "AwAAAwAA8oEAABOJQZokbEN//qeEAAbv2U/BdA2u0gBxcf/lYNsrpfFeLczfuQ9x+LY7YRHPmRO5\n",
              "55G95Emoh34bbxGY4W4mfkXEBvbkfxFvm2vf+thZH3s5jFMzL+nWc0x67d+x0L5Vvlmi1Q5Ldhxn\n",
              "UFmbo4+IMRgKPrAFkCxrTboR9BSkx/JTzG23Qxb0Hmk7mppJXK5jnGtDFjjpaqVKUHMib0ZqFeRl\n",
              "7V/kfunKzSaZr4Xvs2pyt20CuC9XL/5YWuov0403jO+yjS1GhkQWf3NbVKfxCnnZDqsEyGjJ/0J/\n",
              "xETZviBs6pvBXMAsGliqqMm2hRJRce6pYIE4P7k+MRlfaGYDMTs9v4wGDxt3KXmPAQWqXEosNEHu\n",
              "bOfpMYyXbl4/eCHpiXgUI2ATi0RMQ9JymoGpBVrKvuRE7TVMJ1FW8hrKXj5Mz1ZW+wUmq+BsXd6M\n",
              "Rl4g0CuVQDy6kK1gpr2fUsGEm3A6VFc2FCWifLDHdqZ3W0IGdNv+eBmglgBxG8x8xc+wFlhHAYCe\n",
              "tkqyOuwKbgCWnfTipNTKdFoyT0t0O6KnNIn/6oNYg6jWDM+5EHyykV1L7h+9YIfuXykqTrg2KgF6\n",
              "LiBTtG+io3S4+I7joY5VFKypFzUU/CTlIRyJdhW0iKA1eFaQHw6zbONz/5E2faG5t1cPAQ9vBSZa\n",
              "iQMj4e24U0PXKrPhU9YW5KEq2C/DDpa6UXcl0YuPiA32OMtoYHuDK+E3WrGtAxRYUdh36sI+ggCK\n",
              "L6mK/Nw2U/LnRZd6CtBuUF57N5abZWsFjSHPHD3i7bz0+N/9sbS3t6ey6aiP4nAQlWEEpRT+820B\n",
              "J/CUYfn0NyAJnImyuthyYeuaiY7tcmDHC69FJmpr5W5EC3guELZdMnbepNMAs89e7nMjB4/35uZy\n",
              "ECBEEU2ptexLVCTbC+mZ8J7wwQs/R81E12dB3BGvD9/lP1vWzSzoIE89wg68XOKumc1wce/Xlbwo\n",
              "iPPVvccekY6VoG6MxEBLXUvS1R2J2MmZALpU2cqa3YEBeLJaJyyvMw9+DCeoX5FZK8ZBXcA95UUZ\n",
              "jsaU7ogzPOWISdEbQLJB96R9Xw1uqvjMYOMIX94m4H4uK5gG63LuYaLDy7oNhqMN0voKwvfKEj3x\n",
              "BYwmgFNYrMtMKe6X6/UO8Sv60LsSlYKRANFSedW2NS8A8bfZspMumtEm4BlCN1rQrWPDGpgB5pfm\n",
              "IeB030+OjyhTwoiYsSLdvQPLeTPcMjSM64wa0ypqVp/JetrUixHZKLXUW3QTuf0Uj2xni+NN2UpB\n",
              "HuPaLzl6J0g3V+v/oDUJbaTJB020waHBXp1OU/nlIjOjicvH1qOqA3bxy0btYtt37PnOwLYiodKq\n",
              "ByGTLEgqp9K+JoV/4+dG8E3PhVWfs1+owTHW4CHGQLXXCqAMs4cNSb7refozM8RMmfkSQTp3lZ10\n",
              "3sXqQzSruOK915Yy/FfbaNSw9AwZWCnOh8VHlhipVV6vCEJBPP4G/tbDhLJX0vgZV6DQ4Hx3nomx\n",
              "d4QcQ191iHFo6iOn4Q9/QfF0g02qVGgZ0mKbr0VdAHkpbvjW6njUwuMEPJCNLX0bvmOVSSQUXrd+\n",
              "VjcQ0pT5AFTo83P5S5S288sFDYNWFVUaVbIY02+jXQHsScVxd2AM6t31SYzMXLOu22kApH/S+F+Y\n",
              "xEu0mtbTbAzGiM1YMMGI29i7ine4E/XmCXRK2v4Ck3MJX2rUHPp2uc6FPTrKqegeYcJVlTVE9myE\n",
              "Agns5CcfnppNWozg1423aZ8ZN8VgUnjIFrFJ9xKt86jJOCCTdx1IrG9ylwjT4rYdDTlV/hJds9XA\n",
              "/XSzDIXt4b6EdMmxUWWN/V55uZyYBc4gjf1baU1QTWOXD36ckx767Y13CFDvJ10ssTyGTA679gvn\n",
              "5DXZyj1XpRmDodHRvbQFgi9X/CbeFMCw83YDalf/xDr30pPwxG2p7Qq0q9+qXiP8UQQxXA4/Xgct\n",
              "pcn1vSQ54coMxgJRwnVGc1+JVYwg99cAyAhx7CjSqTnoC3LZ31LCg6DSpr4g3XQuBSLdYjaV81r8\n",
              "Ih3sPYNGSGgNAW6O27PPOsM3VtVpM0uRGVQkgLt7FhQyq2juQiLFF4EFW8+9hOkhWVPdofoaB2Kx\n",
              "HWXYR6/3attWTgth7HsYdRr8lirvGsdzWm3rWkl2iQR2WqfBE3KAP+ACNP56MkuOWqdDtcDcqj4o\n",
              "/SuyqoHU7cfdz63pibSIqxzbGlgONsODYlSgqb1gFFt7HOnyYlQSSVR/ojW2FJZSqXWhBcbF+9R5\n",
              "KcHdfnFEqcVSkPs3MJXGQ6U/EF6P61DCLAInq4vlz6M4yMAIHP+p2Bkp+Xm6DKyFLip/kUriZ7Gh\n",
              "cmg6c3z8fDov+dv3VfcOWt0gioy/Z9t8IV2Ch2DWNEYuGzTGq+6c/UxEP4DZbQ/wd6SUr0QtD9r6\n",
              "7zOO2gs9foMBPHx81sSdHFUQIT9yMtvVOHdY6W07iA5uz3+AeWPUZDbD5q+NAPIbwK4OyiOrTHTu\n",
              "7Rc/3en2Cyyc6khABC+JW3Z0ylLngBnhOc2ON+fysZJTSG3Gnyh+E4LnHIIWRCy640Q5X6sQjbze\n",
              "xPXBbwpsa3lqOS2nP49WLoB/jK9k/uCxEUWQCi//D3sn2UD9z2qnENliXTsBTs5Rlyp8ryK6DlCo\n",
              "N5gkecR/nVNeZ4gpXXK78d1IvlhXv1xlujWDXdvwmrrV84q+6MEHCPUvVgKzpXXWfPunBlAaWY7v\n",
              "yv6aFRFC10Snc0qLT9bSkEyI+GUK2JMrSsiMzY3yk2WYp5v2HYIH3E06+0qy5hbH+nApsLfthiN+\n",
              "22SQEfMdP6huHZoKCTKvxRZr9Btb7kng/Ni+WFpAHUbwzVpf1LGBR9jaGRQDJZnVw37Ej2Sykm6E\n",
              "Zi2Yn8YnmePKjdPu5G3L6jgmO7a23prsXaoN4urNuO01mXrnOTvazI/XJzXDMSs1Etk9mBOKmPPw\n",
              "REzFCCKwp2+X2ljA54rGrcTJZOx2I5vDf5vO783P5dlJYZ3d3y+kBSGM2UwjNVwajY717McY4os7\n",
              "pW7rKkhT2+hffiuoxe0SGX4EYWXMAZvV3T0n+1Rp6iA97s6hk/MEhte5ctldwrhNkXdgw2XP+koR\n",
              "ncdSvJIPx+wR168zk6q1Q7IWI8etBCuOsUYzYtTObacgJ/SUy7PwIb23CONQghBVNeaC0Mf2ztOV\n",
              "+gbz5n7u0Cn7M8XcQIPr+Hv3ZeFzmiUxtJrLElKJk44oS1/eh0LKvafVsUDkAkB4jO3okaEvKg8d\n",
              "hs7o1N3BIiTMMxYJrIOMUmm//AGnlRdeLB9Ascpb9mfOqqHW10DeWDUNhqSY0wQ4KsWbc9m8jk25\n",
              "9LPzJxlcSJGKEB7dP/pV/r49odIVct+tBSZJPEikOd4izjPqIaQQJ0mdMOAx7wzpFEk85paiUDJC\n",
              "3iSJtmmDnGylw+OuHakjC98+MuZoktg2Vd1XsnR5AXb/OKwdSKo8ryxQRevEMKrp1ScpjapYB53h\n",
              "bUkqa/U2+ygJCkuR5j+8X7iqDuy0aZvGQh+tz0+xRldu6ieQZSXRxl7XLTJSi0wbQGHOeSuTvgbP\n",
              "qFDXbdi0tV9QaLfYGIQ4djOqSuIKY0S73a+W1TNSnM/IbsnAHaBJiabKUceTaWgARl7c2E9rtL9r\n",
              "RXNsmPxjPpEMWUUw8juf4m+RT1rECXCdskdhRUp57tUu5sAlslzgUGFJIEzPWZQYARvbhVVy6C2u\n",
              "lU3dA7Vt48IaD5+qDUeD94sbigOah3D8E9MBdLoxumVJR4mMwUOkQ5wAR1ULcLldwvOrp+Yhnj4p\n",
              "pVggkRjfXP3jxPOp/kdS3QARSakoPJ2Eeo2DyXmDztZ2Ork0KmCUnoGguBWhsTRFj3lUPfc1IYLm\n",
              "16dtgReu2dhM5oaryC7oe7+KK4Jm6vhKyRYBZwsINFvj0EYNwTR5l28iEEgRjkHIOuFnag1firg9\n",
              "SY8+B/b4aUdT5T3+LrER7N1i6fNUO/5AqpaVPtdGJ54iKeiJ/58jMa0QpZkkZcTK0DHmUVKXw1hR\n",
              "YL8XlWFqk2r3YN++qvOO8lY1VB7ZcQnz0bFVqhEkxt90nYOCPtu1EOXHMRu/It7BOJLry3Y6biAt\n",
              "NDooqJZftfj+2uDVGLVbb1do1X5g+aTzvBcWgcNruPNqQZH2WDY3Pe0QuhzTlJWkPy7nxdgDjbXk\n",
              "623lSKywYpa0Q4JxAaKBF+k40l0Apsvsh5n79eSjUMzpNZKpvr75BlFHC66IvP6AXroAQAzQXsFu\n",
              "brDTcY+dJ/FmkdAGucZulV0PXUCLpEnjsgsJRcXrJWJNBeeyzh0yMMn0efPp5DBbNru8kAC4GvmB\n",
              "/mdtaf53qlTdtA8CxdvYIk4Kug7vim8LveEUa3PBLaw4a4lzEdrCVBGcafJ+j0WGC7FihrH9T3S9\n",
              "ZIiMJZ7TEnZiuOOTZIqwur1sjL1gzrrvAcPF53WykmCsD55STDWmxnJh7R2oOZxatIAUgdEUbOK/\n",
              "nP9g9B5pDSFJLh+LjcNbk2L3yfDpFrtTvwuAeB/9Kh7h22rglkT7tmeHTOG9bzIdeyiYwjBJOPzF\n",
              "Ac+EbFIuas/lmTImT2uTDEAsQZUrONiHB5Zucd/H8/aQxFMCMalhOHbB7Ius3u1fjIqb5jAZE3M+\n",
              "jANyYQIb+W6USM98e9mYuZ9wSLEqdVsKUqSl/vdXptKAevaHAZbbSaF2TqmFoGcjYAeKrsj1Pvfg\n",
              "0lP+Z79ICT22N7C1U8mGOr/4qVWw7BkHJZ6mmWme7GhrXgm9rroqgqjGKFlipsZhg/X67NqTiQeK\n",
              "IpJ2LivRXG0b43CPM+YnawFL80IEQfhCaXd9wq9tx+y9bb1ZgCqRCXJ57xJcIZR8YWWczAyPDEsD\n",
              "JU3Eyoxwq/2oHht5cCYHOdwouDvMUBp8t+sH6onAi3YZ0J5HNNmVZ0ykFxUUs/egnLA++T59P9mj\n",
              "n22UFtJxJ/ypM5ZYnKT+FV+qgCOVsmErGDYS+3LOPdhpdeauB/Xac8XTbTR9HNAov/JHbhXHLoDN\n",
              "/+S3VaV/KDitpKJawoEG+rk4pe+Szfgo6IfElMQGaNAEbGehYIlJ8ucNMenrrvN0zujdsg4atNGf\n",
              "wZr1wZCQh291YA8ySohw2Q9yYKBAPADE75iMxDe9q6WTgDVBFy5pM225W8xXK70APti41iZ+loW8\n",
              "wLB4KYTCjSzNnd7Fk+HQPoTf6/TUmY7PD17OOom52mSdjNci1wa7fdMvJAWzzGegZc0Dq0scjS+A\n",
              "SvME5LYhkkI9efwfVYgCgIwHHvgLf1Ic6M3Ba2iq9zph58nHdePipCKXtMq9GsoPFxBNCWEOm8WA\n",
              "PFFkbqTRwKXmVxDo8h2d1sCJdlAsbmV4NiS5CLRmz86b3Ljd5KzkzdmnTh/EKV/SlBsSetEQrirS\n",
              "+7U6eWmePDqcngEOd/jXU8dQ21k8AJP7GkqIlvHrlZdaFJL4Iz48nPI/qssvHHwDtMiovFQ+KMKO\n",
              "ydHFLFvW/230Rt4bgcQGzBF5sb9Ep6HYaj2RHYzg8h2x28Zo3gxIdsg3nqljdhjxZpsDvw9Pasvg\n",
              "l5gGF8LX2BSmLwP78xJLZx+6hmWycGjdqkE2jPIdoQkXJ/mJsqnfFz9JYyzo6SH+D0d8Dm6FyAdX\n",
              "CtlcuSyKeOE9uZcfj0PRxG2KzoB5dYunvgFe1/ISX9vepA6WNnHYiauAaf11E3jjg1F9PsCFj7x+\n",
              "FHA5mBJjNeQBxTe0hV2veY8Hv2uToy7t0QXypN/VtiE2IqvVXRyZLL/rLOIVsePQj8+VrqM5+ZEo\n",
              "mS0nKgXik00YYNTihkF5WoCPW3Mot2VHeTDOSCtlmgDySNPO69bvSkjAlX6fcpSQd7vWHt2gYKjU\n",
              "q4LFgOi8tRfX/4i3Yt6tEwHdwKUmO0XEyNRie4+XP/rVHswsKR+ZsahrdIQvEwMtCNo9bJit2W53\n",
              "Ic9qpOx+iMcjOr3RTjsvFqnm25ntMFFDbXOmkR5mLos+ughomNw4QaNBZuBNlycQQgWT1ExhShvo\n",
              "8lnSqfpfLNk5MfITaqIBcGQTblbf+nd7JDXI/G/2w5iYzwWYm4yM6gTZhvviX7W63f3Nh1om2MFf\n",
              "hoWZ5hYiuMUBZEYyO2oJi97oz2kKm6ImxYxmLOJtXE+dujV/qqnsxdEI7XYfgcq0EMz4sCg0OLZo\n",
              "9Tx3TM2DMxGOSwygBRLYagvbpmzyjZwMLr9+SuzhaWBShDPioqWSOUf3en1BeEsJefBuzlM5U9Cn\n",
              "RrCO3TChT5eKwC6NdcJluEemHQMxdM7MdUHrdHJhibjoIYlxqEqOnq4pXO8E3WpFyTyBniRFrSUo\n",
              "JK0wb+4vEBB+Ra6dIktEOx1IQ7A7ZasvrU0X4b+Imi9wNSsfxQ6mU+PihFDSLkby25e8VfLr4tG7\n",
              "1YFqhmNn9aV8syS8I16QT0kAQ9+FwnXcPhsICphOr7J0KfresOmd2D4VrzdRRyJ7BgsGWKXnA6+3\n",
              "nFieCGUIWXcx2I+3RV7uqw545xB7dBFTBfQSZUy8YSaj20waw2rWX4dIbJ7RbQjrR6E0pVii5oEU\n",
              "hTiyLf3lLUCOCkT2HGZZif/EiDgdrDF3JUNT5hkXcBvjIijh3nA1JMLY67T95SnWvh86diw1LKt7\n",
              "eXgut1yIbBby/SAsIcwbR8gxUo5BRVal6qBpvPPXmAOLZVsCaQrKVeWVw3Y3lyz46K4P+AKaAAAN\n",
              "6EGeQniHfwABvNpbgh5AmF0S0c9cgBL/3r+bpz+Fzo/YZks8q+z9JeBowDssVjSm3DWT6zEPdbXq\n",
              "RuZxPO4JIMHBZ47DpKc3tesr0PxzJovbpNow7XRQSeTXMxSEGkWNahmrIyzzRxQ9WA1M4xVWl4yv\n",
              "PMLcmtNHJTPwGDxeMYVH2xug3HhksiYMZTcFBERVAblez+VyO7z/VBBjpX+nWkpnueCp+qfZvfWW\n",
              "D/We2Pal0E2Heb+3XSXD3gHfxQp6YPfYHlNspcGp+izPmxy0Nbi8Dk1qXqAdpj2tx3auwq94c/Tr\n",
              "L/KBppyyn0jUpMYolbAO1un8KJ7gdYjIrX6uqwpAp2lYwrteF4ARfXKPTDAn/51Yyd38TNv6NOrI\n",
              "n5rZ7jBCNPEsqasjiOWYvDa38J6OirL+QOJZSonKb5ZdSD+TzdreJlSHQrmJLcO3vrhh8w3v+Xlf\n",
              "S5FJ5Q55HCRsk5A3pywdfx5ExCSNIkuRwtktkbTeAdSt8PC+papd5DTlFQXqf0aQTNUuavfS9nzZ\n",
              "nxvQuqM+v6MTbXcXjQgO+2kyu76V8O1JD8Q1XbpOMyfqxxdXkms/+u48Zw6fSpaCbDq2pemJIYpz\n",
              "MKdqtGzW9bpbqwDO1R3LWF9qwznndOpBIuRcW+wq2K49iG10wKKvVqgkviDdf/8NQD5ydcJJFedV\n",
              "ErD0oM8hQFcarpFA4HT9kZUsLa8kvyO8K6zMR0COn79H4Pv4inBF0J263OncpUDMq1FK/+VSXgZU\n",
              "EB5WqwJyJYUEFV/rNcsFkXLlHqCSlJjIi1Y/M7lALTyFC4IGl18Hh9ffWzlNiFqaXbGRpH0dAUd2\n",
              "2AmchCwqa9I3Nnps56n2/bIw3lzLvSgCV0tAJDBQsFhccRBMoH1vCgtZNWn7x8QVo7p+uDM3MgiO\n",
              "cpilXhgnaPoiNMWmEoDcWZzLR9r7TK5fnV13Ff8jDw1lx/WyEVTXRgkbjLlpiv9awcGF8F/ZT3Y5\n",
              "tLUkKTBEkgrkoNq4DhbT9hb3P8TMWovvGJagTKOFyJNORBHvRp6cU92rQmwjFaEZpssY01p+6AHz\n",
              "VDHkPMkSWWyHEm3iBod3O/nYwDtmwR8gJfLT1hj4grTIZQhSlEOa6qEUltVBwtDn/50t970p6OPJ\n",
              "n9DHn4D/JJxSkrH7MglEHbbZpyN3ocryLKREhoHVgkTK74NkDsbQFZdoQDbudUP5Pxvz9ohBX9xu\n",
              "zk7FNQ4PQpghj59upoEdhMlIiBGF/6l65MIvdg9XvfMwofNI6fuMPrlRnbCb2shwkfHhvJ/7SPWa\n",
              "EOr6xHGyuvbQhfzILxYaZrhylam9scQWKnLcGdADF/FNdVCeAghqCQ0Wgn94iPJn0UUYyOQeA9b6\n",
              "O8Ht9Fx6Kmq6langzPoiyEYUkUkxGsfm/vxztyBuUPW/QRjYLFGrOjx7EqojQQTdwIDI9DQ5cecG\n",
              "+f2uMIXDWkJUjxIa3HXljC56ST9yaiO/qEzVTafDgD67zoa+/n9h2UbdGqAveirf46CmkQYA2knu\n",
              "2VFlr38qFY0N5r2r3pQupVKU9srHqzk3xtAClRHYgEKuXf3ZDvcwwgXpQKyZI3WK9hMoceCWri08\n",
              "2kXEUMN7qOhgIhYTBTc/MDxf9oxHllbqA1GmfUnzhjbHYguvL/+aedzENLEWzfDBnxPlP0BrpRrI\n",
              "mkF75oxb/KaJy1XslQLc+xQFeIOqE/XJq/WWbXmaE4xgS8WQhiCg25W745z7NTZ0wW/S8MR7eAhN\n",
              "BHHjraKUcqQrbutAERuyWK0kBvq23NAWUQ92hKdl43g5Co0PUnu/PvKUvTdipPPhZUhUqRYrHIhh\n",
              "HXaEQB/671yB5J/XsLUNQ5RMAWTLBxmdsrFMUo76DJrmd/b5oiiQ5ICyw/djawKo3kk3UIgYk/fL\n",
              "OnIZaxOu/cvLvknsizfzcsaMhJ3K36JJ7q1WWeoaLOYQgu5L8FourHXkxiURipkwRR295MlxrfOq\n",
              "IK5q9vEL7+kM0FKLwaKt5oI+EsXuz13sOQb6fyfYXnL+6EEs6vVWxPu8IRYR36qQTMrY7TWanbrg\n",
              "3z2EgPluW96IyWzKkig6amENTfYEDBMaUUN4XVAeQBEBX4kbMmxJ5NrbCrmP/j0Sz9reNKJAesJz\n",
              "Lk+vIBiZ1svMWfO0dhLbrGi3iAQY3RHO4GXy7wJ/3cWEXqC0zHh2xfxqEOBwKR3bMTTzXSyIwyfO\n",
              "zNZN/dyz+32CQU9dT16x4/i4aIDoigeyAYVVGRdk6RbbYiWVT7v+xfBn5EC9C46mWzBbiGc8X31Z\n",
              "8EmyhTND11MUENeP29RyC/7/e57HCb5H+Kf7/+qL9G7pVVf1L8zKSGhU+vmulff1EZcL66rxHL/T\n",
              "V89LVOrQs0m4rsLnYUqFvCT8xN7ArBcrZl+4YEazXXZqdokaVKS7/HLmjq54fDh15m6GLO/eX2PT\n",
              "ocT/13jds5C5HaoDFFXWxBQT9baQDfqhDMtkGSupfcVdMyRxfmtRC9eXcwmhedIXpURW+B9vALIv\n",
              "K9tT3som1AcMRMpPyutV3S05VPkQIdiWLYsFkpiaFe6cY3f5hRF/WllVuquuyfDFusnSUZ38vZIJ\n",
              "AXMq978PKJ8xaLpe2PS9gqWx2/VlZ1pPr80MJ8QVhZdmanaNyrMz3iAwKnl+NcH5RYun726E7rtA\n",
              "D96hFVk3MQGR+0c9klmkni1TdInNXjNXpfrdRimy3lZsZLckIHQDewF4gTXC2VVNHJ+EbgMO1KFM\n",
              "y06AYJbrCDw11FeUA7vIweg860P2TUQuLQqtliEjQGhccWiVy8j6uEPp5h6TPMEY/MNUtj4dw8Ss\n",
              "3uQlzVmqZoWIFQy1Cij6hdAc6G//mfX3Nsfo9se91N7PbRF2v+ZTGC8frYwgXvmXxNqPrpmfWyZI\n",
              "gbt6bbM9FHQ+dokPBvRadiuRDDPTLxbrg0jYu/zI1p/pZMhn1fVnDLH1iZOBOcansMDKAuAqDe+7\n",
              "q2yJSmnvcBAC4HhUbpV1w8X3D6DF8grKDQspCkOLyQftBpNirPiWrJOmMFyZmU9gxeaJH0qOkCci\n",
              "Mdj7uXlJtW3fzDxSsIxigGlMwdbUxvo6M/f4KNbPAhyF1DP/D9+x28F6r13TvJmbPp9uqjkKOb7A\n",
              "2ztMWQfQEX7KBBumpoEBYAgUxsAEEJ+GgBrA8n7fLcQ+g3FKysP5p3cF/NDgd1UWhaj8DE3VYYv4\n",
              "MYoWAwmlFPR9vAskAEpkNuzUUk5vZ08uoZlPz3JYFbqUYvSSwRV17kqPyUZFAeU4mDdd+0PnKca3\n",
              "AsqeYknac2AwQ1oPastk/VYqFTFIhiAkvXei0r2Nh/vvs6n4lIKlmflfYv01PnZJfQlYqYk8Y+qI\n",
              "+QI8Nu7aiyqvY1u505AINvYc5mWHxw8PNn2B8FQFliQe8yBkXiPnDK/IUZ750LbtssFlPOQkw0Cj\n",
              "p16AdsOnUGuAEkGD4si091wgTemnv5XNtauquqGjGVtyu8Z4WHex5oe5/vEKzkD7lg3GwIAbhFMU\n",
              "qlq0cn/TIRhAVA8/PJrzYyUBMK43p8LF0ecAuFamwx8x74r0kVejLb12UQu9kRknajQoWnJ2lhQX\n",
              "6lbm+WWi5/1s2naRSAoMdpL/nG2VKoU2GpRvmrmUl2VyNYBLTXfAgYnb+UBaC8JiJbOKxdeP4fiS\n",
              "dMJ4YL0mUo4c4Q35BqEx9ZuuBFMFRYK73bzq7BDLRG6VcEwt7MAwbGmurZkM8nZk3J9Xl+W66YDc\n",
              "XpLuBHLL0TWtnSWn83XCLRR2Ycj98C1dJol7QdwMT+w1s7MxPVqoOjfi0vEXR9N5BfmdQZzaym9Q\n",
              "jd2LGQf2dwBnNLBw5bLY8wJqxATjnf+zD/opRShlyG6klqiMeZpa7Hyc7Gl5f7sDDHpYaWwf39YS\n",
              "ZejKYF3911mR21IcpuXVboM3zwksZ+7SOitmaHl4G9hjZKgFvmiFd1GixZe9eLdlh4o+OLDU2VHq\n",
              "NHrM6eJXrsJQ65AEKoGDWCJFP9LTpwEGWm64PvTPgJc4IBDcSDxA7WQJNHhxoxpb+Y+52YWYwiyx\n",
              "lMCX8ad1sF8m9V2ViMhPmImx3DtdOBrMwCX/ZyltqlTh6N+v3nji0zgJmIzpYLTLMSmZnNNYQSoS\n",
              "MbmhJW8Uv6uV8d+24LIlTUNKs4MILPwuD9xKhDYz0iScRqLfRrBvMM7HECOY/XEB7Cj2h2g3wgoK\n",
              "1bLusoNWcF+EbLhONPK7YPM/NN3mqiCOyEZhZelUvRHdARpus2cjAm3Y9cUXOCINsfnp5UpSUS1A\n",
              "oq5+ZB55GDLm0HURu5OdT6EGS/D9c9rabxg99MzwAeE/5URw0csNnFDnR7Ft5qv+JtoXSB9/sKoC\n",
              "tcoM5XPa/8Z0A1Qq/ODy8vOAZsk6bapnAPQd2xx2N8qP+voGVryuHDe6uHEC7Biv0Xsbx1hLVw6d\n",
              "3JWaDxa2m+uuFeOnLDlQlzDiVaBGkGyqlAMX8alQH7bfMw+0dAC4uR8isVoaP2i/pjSX74w7KZqt\n",
              "JXlhCzyoyu0K8f7/azhlRu8t+YtmCU9ngKtoWRXXDDj7h9pZV/OAKizgnELBQkyyLHujKG35+nSu\n",
              "0TtP/q432BsepwNkTOXSdO45ewYlf/7OZXLNVYOwPYVPXKHl/rmG8hEXFdnNxEcEy73BZnYBkbFK\n",
              "j6EBJJ+vvCXwp/wRtfTmem47RjNJCxSVZs3FD/vUe7K49tDLrF8Gy8DFRnxqlcHZqYizWiu4Yknj\n",
              "m897HNtJR6Qu/P8LsN5L5hedbdp/ZsIvTrKvAAAK3wGeYXRDfwACfHdGuPicnapn0V69TGywADg2\n",
              "KptcNRJKwy6VARurRRLeSR9glZjo0pA2B8f9Q/s94UgEf+W5nlz6SPDdDq5vwDgKXY3YjZuCmHZX\n",
              "S0apGJcGHsy0pH9KjrblV/Qb3wndGqmHFYLUwq13lZyzz2FO3yDrkNVnFtF79yCFF/oqRW0ByWOj\n",
              "4DTW9Q57EY2hRhIS5CNEbLDlF4z56D4J/srHsBp0FIXvZRvnIb6Xyc0lpbMmUB+z8ewqR6RzwXtQ\n",
              "m9sSetZycw0MD+mDUtcDjfb6ZElaunlpsfdx40ukJI2d0NF/JBSDzHVigXbeEWoU6QK3vLnhwJiw\n",
              "VLja041HZrLPuMY3U5kr75HjRVeTArrB0Rp51cAsoWJRNZQA38yCu50S4tTC9UtjKOmgU+6hdVS7\n",
              "CgY/2konbS/oJcgbJtrUyN6DWYXv0EHkkIKgHDfzSHfTVbcN20Crfcgnu3vZdBgzPEKPp1/v1kXL\n",
              "Kzw7ie9JMqL16crU3LxUur/hsw2g+e1aF3XxCooa8ZrVCblQhX4TmIqqKCk5a0oj7tmqZthDaX5B\n",
              "JulR6VHp2Wr4pkwBALzBZUlc02y3euiN3SUEDquDH2yPLKtq50ZgvvmoXexTPgWokqhikVS0N9g8\n",
              "BVg8ll4OsBuletkcrWfr/UcA20/yIIc4ECv3ih4cNQY7/PmSP1vjdgnRs8NUB3NnDOmjAiw0RQz8\n",
              "UOzREbwFrplBvpRzy7itpmYJBUrkAMd5ph56+5QAWy7cfdr7BcIbGqgvcbBne4awVw41+s1g3hA0\n",
              "dGLO89VIjwXlwq+QAwPrQ1rUU9HtLhdU/bixsgPwuHCHHJxOyvr+inRL56OC+F3ZFn/ZLgQv8UsY\n",
              "89O9ly30RPy64arNrJCECRQcL1HlEfRaMgHQ8DlUXiFXGMQ7+6ji1MELg7i93yw9mOJWZRabHUWp\n",
              "yPHN4FFClZpixtlxK/wOULULbwxv2e4vvnTOQXPAGmLt9xO1HAN2+LUphfNFfOGWwFRiyq4X6Qif\n",
              "t/U1NU2yOBu1xmF2ddeN8t8wMtfKHyENqrMHST2cSJmxJ6mlbiT02+tfImFvJyFuE62BLAECz/TP\n",
              "DeG+pSzpBVYMGnkHOl0uVBlFCU0d8+iO1GGKiyLBKPCHmVNGfx4X9Kjl0MsxICw1y6iXWIyOvgea\n",
              "oZAo1YaZh9G2P6XP7DQJl1HnnL6cHrndXWG/4oxc4sFUHAoHXXVeQkJ56/onFE//8i34b6dP6/0v\n",
              "/xyGqchrxuy4725TWGbyXWvM0kWwchr1DC9joT0vrurpKcaguAHxQpfxby6HFWVCZTjts6vWwTba\n",
              "maI9otFP8QN0mjeQ4qThuJiNXoopyx8OYqVIRt95+aKKHd0QBZtXbbnK/JrqWe5YVlaEGx+/0GAC\n",
              "5OyWRt5YALQNvrgSRG9AW68Msk68dJH+kvPkMZihVffuW4/PX7dUy6GdMouO64UrDa1b7zx+/Q6S\n",
              "bhsmoOjYvLDlKE9GDc30r5XadD+PAeAg4PvysimK49AEkqDXPgULXgAl4zXyE8pJJmU2Gw8b5BYL\n",
              "V7r/QC+Jz/VWPla3RXAYC8+ntRbdhv6+TFwl91+RvRO8FzpJ4iJ57+7m5T/ivhVtHAusfZANQ7Ii\n",
              "5E/jomm54zmwF6FMvv5bdGYUjQ5WMscagJkFqLuSdWWTqY8UK6Ts6amyJ9B9/w15Dha3DAxobKXB\n",
              "xTcf2B+g91PPg8rCL7ZsuQS42s/Kn8Cee59TlKLhGPZcivhxg6BDWiHfWG6pG/fuRGzp2mypsKAc\n",
              "iRGby7mqwfzrz/u28M5XRbg0I4Z0hk688Rd+lqW8+RzEVBTCjsbU7F/QQvGtQ0gxTd0ptcVDo/6s\n",
              "x6NJD+P1Yd5woCjKXD7xr8kITc6HLEnEfN3XogTc0u05F742GPPJXw6Tn6J7lKypkisIMd6a2ouP\n",
              "hZmQ51YxD6qIZBgMkxAVLpRmuEPWeZRyftNIjBJokFp56nv4LkrqATldBpR7aZpnatIJ2qCjxW60\n",
              "Lu5KzE2ELcvFtEq3LTi59R9A4ORZipJ1F6tZz/zFRDGC+DRO5vrwRnoqlob26+VCr2HXOT8GaHnJ\n",
              "EvSDdYa1+IiNDsL7R/P0T+fB9clEQOKo3awTA0mQOD4HG7zKkSzBWXL3NHQe5JfeAKkMJreohX3A\n",
              "rXhlKqpsMLfyFjOlyXU9J7JzDBL3KsbVjaTLJgE77qRVWE72jB83P48yu7qJDmfeW7A6ORMwsWvi\n",
              "66Qz86yhuaTLFLbNKIeJMva7D0BetQ638kYVuZBdnJRtR8nMSTk54dPxfMgBkWluJxFqKc7S6nZ5\n",
              "vnsu2mkKQl/xk25jiSr/+LxywIjjOoZu42UhjL+ep7848fUQ7yYFTvvL5KguavyzOsMZJB8WVQAX\n",
              "BAhFhTnWyl+BdmeyHgB1wqd28WVIJfuXXJ6NKe87DEZi0jQiEh72SqIVo9x292QqgvnCNNGU8oPK\n",
              "TXSuBfoKtA5z9oeBaaa2hw6vtxSQx8qhg7TKdfurYVlUXB2MCVD1h7Akqm00667tZ+TBmBOFu1fo\n",
              "26CY48TVSeI9CRU59pxhaU6+EeGKYlQUx2XGTjDlczravCeSAQFvAEA6L9mNU3I2bX/ay9Z+Adro\n",
              "a8XT81v4rDY7NSBH8+jdI0sijBExKWjU7yK9xkxAmqsnYnpcX9SwWE9n89PYrd3te2CgZ3fcy/C+\n",
              "V4beapdXDDbcGIbjyM8ZIxAJDdCFT8e4YqQuNbXHsMRm88Ui7dZ7L30WSde8LW1RCgcy/ntRWVGr\n",
              "Ipi8y/qxbAQGgM9FUSM02otRhrMdlaWKodyN7fECbMZUgXzImh19XFWHS8sAXsw3lHBEvOs7uBPn\n",
              "w4LsLjbUaZrbvqmNUl0Z1E7imECk11H0PNkwq3qMMFIM4hLvGhMqWo+ZZnkJ4kSO6iS1A4H2UbY1\n",
              "Nuv9aP9XGQKSGvlnBFLMs6jTq/V2XNTzC+smd/kmtwkr7AWCpT3zfEw/Zg69HIMz49oo2nf80iM7\n",
              "cQEmHCikRhVwK2tVsj1lxiIueQu67I/LR33lqJ76Ib0PzBHnM/VvKbfYPjICyJLjg+F29mQ/d0Gl\n",
              "SG1zxtD6o4th9ufHsJ5kHWSIANiMlhM1+aT3qTcp4PiFiBWYfNbChfDDIES36HBIZ8xNn+Ud45NB\n",
              "MkHCNQcrKug3A6vkx7+mLGoNvsGLBIECUwueeSTWJx8Q6E8cMFTjjqxVrUj5i1DH1arLMu9b7mp7\n",
              "1yUam5BpA1IIZN7tXOupawUplouHfNtQ1cUY16f9BKjuQkV8DDoq3W+uIdJa33RWQUYkobJNLHF+\n",
              "CxtgdAM+ggEqYlFSm1znDT1pojNDiPA2ccGmihY3i3PYoyobd87pVqh//L3N4bhflGcBN2BcaGP6\n",
              "tRAxWsYc63vyZk9mHMiUj3lMmSKKTESNDleuuJi0Fo1oAsirPuGZfcP9mU60mM2xEmLdwBedgBf5\n",
              "P9hB0vEdtbP4eHBX0Q8Nk5z7kIQn5Y70Pj/tpvlBNjcUUfG8+f42U1OZVw8AdI0VXxbiJHDhsrlW\n",
              "x8j0GMvXy64HAVHQOW7qVIut4+ZeA4yuJcoPaHtJhY7O2VGeOVpYKvWPKfuc9YLRzU4lch7NOxgq\n",
              "snCNGdmgHyGza8SidAf36wqb2RGcPGsVlvvvmRVcmBI1JCXC5DrSznIRHHlK/UqLQ3qijrdW9QvR\n",
              "UJFw4TTjQzZynRDLF1tNZrQHbYEfAAAKXAGeY2pDfwABDa8v16xi8QAfX8V7C8xfq/FFQe+ehVUc\n",
              "uPxXeop5t+/uuvprOCLoElPxxn9w0hND+e9BLIdFBQH8od1zyzx/92wWtAj3M9cwmsmZKw4HU7m9\n",
              "dVQ1b7o/Ofe8JVqSqGYzI9mlpSkaRuFgy0HIW4QJNnrtz7pGEpACV5Vz30Qcn+l+SEEBOmtrlT9S\n",
              "jO38thxn889DZm8mzLWkVojYshCwyc70D/sy0uHMslHr/DiO3xT+w7LEPRhi4GQIopY79zPNAzEY\n",
              "gzQZRr8yd43HtlL0dFxM7/1UvYmPwA24UShkvcAeGZ84M1GTrcbVEP7p7J/rsdCA5lLjGBYc0Gld\n",
              "ul+X76OBw8ykoMZT9z8X71EDkMs3OD5+RPXJP/SDxl17mNweaj8/vSsvCp82TrZiF8su/A7f4AW8\n",
              "mb1Dzo1GeI1jHVID3PHDUb2034cTvz4wfEjDXaGoyL2WBVZ6pCstVjIZZbpCfAHW5zKr7ylC/Rr6\n",
              "/OKn1cqTpkwQbjtjWMC3lkUKbTcXl1iWtBrwGWUiRvQAYJeQUn9sRYtA3QS8pRSrxJKI4/HjG7KN\n",
              "LVlpf8HJqUjbno1kT9ShViCNR1oaYhIdQWCqUBZJ0KfpAnz75IJHBFkaiTWvcMzLeJC3TLWMF2q3\n",
              "5IXhKWESFxO2CBnlaqrhGD9cecsFOzwSrl2CHI4iV1GvA7s74m5UeCb+9jZ9I8+s2c4MP97kClbj\n",
              "DZn6IAXMw2qGgHvwYUWwYU5YyRbdJmZxbFVf6JU50Xzef2dcalw3AxPCmWcovtwE+jhFV4icCmvW\n",
              "VHA+uhEgCf3qqTKKwReDPAPtCn1cWN0rzrinZ0NlUEnuBpfPtpA3Rn/OfiMLQjAYgjcuoFOZIVCS\n",
              "MEnx6MnAyf4otBxWNgofDQ/5+sUQcQlhxCW+aHRbm1SF8G9lldMa7fx1NFklSMxlr/vtKEjVgWUg\n",
              "ti53NQcsaqKXsqjmdjnIAy0HeqIt0dliCfJzNSMo/3gpbfXixHkwND1mAfzWcrB5UYYgaczVk8CZ\n",
              "wks88uj+27zDKx36TMn5LgkfcRpk8lkEgrY0MFXGaH/4KXlRaSn567UmikbO1KGey3pgwCrrdO/u\n",
              "YFg4ueyvT/QZfrWHwzoVxw9V1DGHDM4MLUSpi4/t/vogKaVMMVEtn9n4iWT6yGLXUvgBoUd597dN\n",
              "WIOyYxFb7GETqrbigXlvPtjJ84lZyuiS4UI+rIbqqEFO0k0n/lr5/PsapAYFD7Bg8XvqVccC6ouR\n",
              "BGoedgydtFe/wdIgzCNcDQNVZfCXYZDR/PwWSlV5OXpsF4MB19duao5ULWmTJybEGDp/oob+GVh0\n",
              "743R2f1Jd7fRiSIosJ+82he5f33K7xT9T6u5ZAW5dSRw3ddMSP+3jpa8zIA8np+JcV3xMSrefPP2\n",
              "r6uXnAqgRpH8hK41kX6VX3mtrr5RBEjz2ZbHc0yR7uVVUImyrfE5pYWgHWETuT5B+tWd5VxmK31g\n",
              "0xN/JC5NUuATr/Z/5QNLwNCeUbFHjZ7avVXpClJd70azyZUSlb6IbxhWc/WFIKudg2cz/3z/aJU4\n",
              "nyW4JOVh1fUaINqF6vMUb67wCi/etB+LJUvyRmdH+okNV//Fo3x1N0fkSxndvG1NVrTJoegNxQdE\n",
              "kteBo5JcuAysXow/BbZK2ATYVE0zzUSU0Mdu7QV5w6LhxViJONJB5uy8VBN4eHxz3QjO/oJlFYc4\n",
              "9noDUjiUdtydSpVIw7DyKfXD4d+v655cZQ41Q+uaJpT0pbFVtEPbox7hvFSwGpxkg0MpVvDxESAJ\n",
              "Ov6pnVt5ickQd5c3ws9EjkHSmdeCuEE+bPBMK5Mr3GDSmlDCvJtYivObomJVgru1LlyZJ9fitE2/\n",
              "aWl7NUv9gPJG8R2bNHUptV26APMM+nJZ+2lrtyQY66sDr38zZ3IP+XhieGfiKDU3EhjQvyet/XxR\n",
              "Yg7YsGihW7LiKditeQdWcFm16uYeshDu+Bdj/sQHxtk2J01KUvMpXTS2wk62kB1fk11EGcYyNhdJ\n",
              "huf6B95sr714vj9kGUsctDS4qsd4ekwvGsEzauvw71chLNtcp1QAm8vY6/tr8c9QTAeceQZzWKq9\n",
              "5WHLc085iVkJTtW/CJkB49nNI5IbmUbmWPu6yzHMMiK4CMqBut+1hyMiOXpaq4n5TOIW23Rfpdpn\n",
              "Gz7Bu9sm3ZnHnEtEjWdYtRtlyLYIBraloURs/82gd8UubmLk7jBB1DwHbO9AAPpG+oGZk3+izCPM\n",
              "+1fhvKjnFnnKN9FbYB+vtEwA1PdAXgoCqnUBoy+5NGVDAXyQmzh4jReO/Xy6yZm5qm7hA/43/OEw\n",
              "B+3xlq4akHxfju7up7diFD++xq9i0pn0/vhgtGJs5BHc+RLO+oZaQBsxJ5BKAKwQ5hRPuYJCTKpS\n",
              "uDgf4FKJal/U0Xi+pQ6eOvW9yBRSqAzSbwJ4SqGbJpSalDL30LLU037Mx2Zr5YTDZ2Ea1748E5YU\n",
              "Qk0EHb1tJzFSzJWKOhV5N8ytQkt8693vv7gqs2Nxs3aJGF4Glgd68p+08EXodxZE5nF9IMWILLS5\n",
              "NxIdG/La4Snvf1MRFwRl7HtLrVcCZG5UjzMNoqcr2ZQ7SnLJXnox/eQxos+Y+e+Al8enM25qXDnM\n",
              "ja6foZQaV5AIJa758SixQacuPI1VFTB/ET6E9XI5X1XTzsfpN8LTizTyRi9nw1jh1dIbCAeCx1KB\n",
              "v2V1k4aE8kAMj7K60H4jytN+NbX1snanN66yBUyoNzMVgnStXrbTBTAG/gRJVHzJn55QWB3dSmnf\n",
              "JdHjKfZUFaUtBp5HRcR3FmHLSsapgUBoZ2ZEuMQ64bI8y3mmnhDniXVtmC14RYCXoTMF1iOfbp4x\n",
              "LPN1vlEFFeJ2IApK+1wuvSGsM1a/siFmnECwzwwSEXtWCZN4W7TRwGSvf5GHPFnmq6wMlya4MwoN\n",
              "Rri3IRyXC2Zn1QR8YHhuxpa3Zvh2XTyN72JSKdNx1fznXpeJpcrud36GF4KnrMNCbQKBVdapU9VR\n",
              "8P6HpB7M1+95ISdzf4b0r/7XJSOVNS/0subba7b6UuLAJ6GnhHIZLu9DkoCneZEKZ4vMmmrb4NFb\n",
              "i9VeL359PL83h1BUQyvGdZSL7Gm0Zg+2vL26L/uVh28qoydX9x1xpN30mxf8mlRg3PuFoA6VqgZs\n",
              "pz0cXWezEQlr439vnEyJHppI21Q9ljwn0VeTcrkew79FG/Yc2RnpLXGQAZ5jKSrE6WWTo6kj7npv\n",
              "9djgJOxPPBkuWkVMTT+d7BbG0VFWHuGr0SmeEqjUXpDOKfjpswgMboeoZTSWFxP0wIyuwBNIwShK\n",
              "YY14JSdD/OR+en82ZG3h3Qbd3HL6U4jZxQ0AdO6HOkx9ijnCfrsMkzGFrn7CvHzsZpWQ1W3xQmob\n",
              "JIHJvvj8eE7gzQyqYhH72OIqMG72sX7brGwlr+PtpcIp2RjeRK3LisUJv+pJJHFTcXfpRpAtp8vU\n",
              "bG3R2n3PntvEy8G2uOfY2UmDDxCxK1ySDpvb24Ztox3V0q/08IdOhMlJqzlDTNgYtkXMnlILuQAA\n",
              "D7dBmmVJqEFomUwIb//+p4QAA1+pppAABu+BlW9SEqorLMlv6oxZeD6baFtHvIu0btejOxS487rE\n",
              "DxP7SsltHQi6ZoQGLsG+q+dfvAcn/J4lpYjLzq5EBBpDoKj48yQn5CYnV/00IiWbH3vqypD0p2+P\n",
              "xhbnUOO8eG3upDNVnkg1hefBKj2TPCavCop+4SiOTMiBNff4xYd4+RhXY68qTBAGAZZCm7JnHU+H\n",
              "Fr1bcPFu9tQCK2Q6IXYiKffa3mmlBR9D1O9A5pW6O4oKg4OCMiy7J8NY/GTVjCTsrzsYQYS13Gka\n",
              "mhdN9gDVbWNnJEOdESLBXbhbgNG2SSTzfUkhyJ1VUNl9hbmnsZr5R7KvWE5l7SviBOiL5MPtCTLF\n",
              "IRHqR6qyras85LUaC1phACMEr+CDWIGHNFVdG0dv7Y31hPpOaLLY+5rWoYTWxoOuO153FJAGDXib\n",
              "Xv9VZZOuKuthk6YLP1Us+46bvR7jgwmYccCTmNfjWW4XmOlXOjTXGoACJzSvHHGEBBKDYZnpYJV6\n",
              "WRbpSZWwM2TVmQhXeubF1buXKDNBvGq32Z4GD3rLUtbJm2mkBIqSTXNOYl5Rja1N+vwrETz5fkAa\n",
              "S6HYGjwvNNJ/ZGoD1oN7xduX0ZCTMmTDqxIdWohjpENAdX37IJgCU6gVyvw0J/F8JalTOdaqx/4B\n",
              "SRO6MPOcLizeO9AzhYtNAzKt+A9WcKCVioVPPFyhrU5tEEZ/HChulYzzaxfd19FY/UOOjEueB5Ev\n",
              "ALRv83ED4jZN/phjztfb0K8jVG7WTHxRLQkMpqOKJKE8G7fU8mI6vFmNrFhY7gY3IcXsWM2OL1gD\n",
              "PEgj1955EqKl77fLbDEyVLi0zDJEiLnh8MDSBgEi8qz4A3ZZ9mjFH50oi6fO7wkKxY8sMhUYuxu4\n",
              "s92tG0ANY6Fgp+T/4piOoAICRc9Bm4BOajbekLq7h03GZpF0YY7uWZcXdpbk4yjzNWdW0qycW2of\n",
              "WG4uYedk6z+F0wEuKSBKlAJlOYUM3qEXtqomv9HIQyqK8QRunhe1DWpf4bHcKTqSWtWRDLZEmqUW\n",
              "6QC9GTt2DfF88apRkaUpEVYxgW80hVKw2PCPOaJTsJz4u/Y96fATgA7Ihn/9ugaDdPEU/LrPAC6l\n",
              "PnM6xeciW2heCSRi638iwGNzz6lIYonP3ePoR66KgC08p6pfFETxYL2GE9eH99axmtjMIj4LS11V\n",
              "povnHr6q73IVeRASSb5GvpxK6Mrx8Bkucghsp5fXUnUM1yQpKWDZdh3OtBWqhebFeje3++ezu6o6\n",
              "SKWohuSN+yPrF1rsmpbXVOohKGcQ488h6txM7fefLzMMNmTN9H+030+04xY6NbwnUq2l5SrqBu6e\n",
              "LLCMwziDkAY5UBis/yiSyXdcvDsGzebwPrRViQn6kF2t79nGFI4BkARQu13WSDLoK7u6qMeoRSCs\n",
              "3KotudaBlIaEGvi9Vcw/WVOMNpe1kT04K5J/Rkf8DE+Boja314/bzAzL0l8nlxckGiaufRFlMbpQ\n",
              "yq/sMoCsqWkS67llcQs+DjjK3LVYQtwruSMfxsPkum8T9ds7y18KEbhsMBIY+9uqopaER1nMiMr/\n",
              "Q+J0h8kA9VgLUHyK9CqK1T2qe8oLaxczOtioTO1R3Ld4lneJaCqfeo2n6MSEA5s8lXe2Kt885jD6\n",
              "rSBH4eQ+iN2YfAmo79cssZJLHbVLRClf5cZ1urWqSKx2IU+hZE+TtJyc3ys06sUv5GWItqArPKNY\n",
              "RDzS8ku8Loq2HgOylUVdrxl5oD0wOf2HM4gEqV/oHizjApFM2vq0R2yJOa1I35D1z14Yd0AC90l0\n",
              "poc1jLti9nrZCSuhTLWoRg2yumtko7YG2UEWI0dyfXuACqUerI6LVol2zD7JqteQXyrPNWSrHTPI\n",
              "jy9P1GvxfavQYigfXvj3eWqjVE7P6cIa49TLhFzlpILA119MnWoVmDEcsoUvb04S+zKQg2Jz/vjg\n",
              "5nGrsJ/gYxkUZcUMm8DdB6V4Mg8vuKkxdkn1ACwPIa0GoRQN0s8Ey2bnTgvjN1RrkCfi5CDmeHUE\n",
              "/9/gO4eOjxEy4cw7oHXDNvndhWJ8RjfPNu/lJFzS5GnGTJ2N5AGC1w4bIG9K1MQdzFGAP9C5CPYW\n",
              "PoH4iin34oyJdW/N63InVYVP+6DzhQJ4oj+5TqE/Ex0ApXLX/ENk+k+UpLaolzx36Vt+Cog81Q2w\n",
              "ILM/egFdlfOaSfqF+ABkA6/1A464yJkxqXv1xftiRhYX5rluzdY9AFlGqZZ71Q/w0+P5ULH0T0it\n",
              "+B18S6hS1pyZFL7qg6aQxJbwF7nXE9Y9+z/WvjBWFsvxjFDMONbZSjdkTvJoH0SnkPaLu551rkiU\n",
              "yBAlqzvhY8tXDAxl/33Nl7NGiZWUzFpIsVDEgWdqosJqzpwuxpgC9ALfOG0ZPcyoespGTpo8vTRt\n",
              "3xt3OTLvteaAx+tj3U7mf/CR/EleH851BHJ/732JcOZryKfFbnONOREFAEg0IY7icBTTecX4A5P0\n",
              "i7X1LwEOIHI6Ari2FAtwyYrC8nHN/KxvaTeBUn/kOyr2K2GlS8h8daeH9AfPAVT90f9LwG109MKw\n",
              "1dt245jjV3PmXq5TUTeTwxQkjhEsYeAlRQYtmcVOAkiMemU6lpLOci1ObNQpxKy5xoNkc4r3ddky\n",
              "TZ+XmjSgn2ofp1z0hJColfMnPw00zu8v3sDW4y7l+iuwF+AA3U6nAQkaiv6QATkz4a2wmRnJ6DNj\n",
              "FDz8rUA6nstkJrjunEN82ZJs0xeox1qMZ1+CtJ15R9mqIoEqr5A8A196y5E2Zd3kSgPilN9XDv99\n",
              "b0Suu99/JyibT40sg4uW/tCXq4AOKSZ0A8taGjTLHzOFlUdIp0mIobTkH5kA3aFotY1UVW/kd3Mp\n",
              "1gEO76JfdxdXfUCo06py0VA1RalH5wTtg7IF/rW0zAOfYl77IWVkiiWdjyqZD78mz8cZ1neRHcLM\n",
              "VNd+D/sd8XUKg1oT8vlk+Jt3v5+cD38KiHNRGKzIzQ7QOoDf1Jmz8IoI7VeH0e+p6bXNWdPPtLv9\n",
              "tjiA6Km/DszALTap4ZmmKMd+1gPtuTi0Vij5K5wr0cyrgFd7NVT1p2jCmCrvbMEEe8tDISmwveKr\n",
              "6nz+MfaRSLBBgYSSBy+qs6YS6kuoy/YAR7xI+sHLtc76U00kJuiK8c0f2h6FLTpTVEGU2Z/z4vkv\n",
              "tOjZDBADSoMlluLJDB68MN+GIWZ709OU3E8NVTTa0qvgOrGLhNpYsEl3pVdJlCd+WgsN2TZjMT55\n",
              "p0Kjdfp3AMLy3oN6Rmmaf0+lmrQl/xSqepZDFg34rP5kvcPWKm36FDpw/xHZ2YfGsUpJg8hdH14W\n",
              "oKacHkjmVyJXNqEJcfE1SJEaeAJh1jaolf7w8fq863M4WmpOjApEo7FBSeFw5v52X1cztwuj0JBc\n",
              "WuuQyVDP/n9hqxSLV4mrpYkzHkrUe16sXsI4f5Oxp/r795g8DtSwQGhYI1t2bW+gimhdPLfG+pHP\n",
              "8yOUhUiPhRPymBWO8Vg5+U8BB4gdh9yjlggGhtNKMObXZvh2w9Izpj/sQIPL/Cp1bGCu3ECCY0en\n",
              "oA+sxOlp6UBG7s6Q7noKjw95oDTxX9HC+DRwBVi5vvOTJMe76IaW2mYxpk4gl2Ke2fhi/q/43Y2P\n",
              "fhDcREWVA6iJuHc56SilOEHhcwS7dgn75IIIYBNFWqZBqmy+bMF3L3PgE/hJE8on+NRflVERAH4v\n",
              "6kVe4BK9r9BHZs1a1B5eGkbmafilWi+8lj5hT3KxAbjdBPLlLjRgTTrlghF3tbwKbeMx6/J0VnOY\n",
              "EVvaOj389c87/z6z2AeR58/+xIxaUk/XN6ksKfqhXy68AyCJqr8k8exDb2a32EsgvmjeOKC/wp/U\n",
              "saVxf1vAC9SHMyhhVKzY39V1Sa2oUPFPIv46nNYAAMuijprOnw9YqWLMGfOX6gwMI8YacAM6B5CV\n",
              "92CgwJzBH7PFx6CnRTqCaXtclJmJ/ucsivm99Ge5vBOhWc+iUIDeBu3VpXWcACYjR4ve9HPveJxe\n",
              "48ale283lfHtW11y7gX2eV8v8XxdppjmD/9wZMf3sHxMUKBcSqP2yu1RlAPa3dYCMpZ+aZx4faEW\n",
              "wx915lXnT7GGMem/ZgOcgtBBhnD9rZIwR9/VrZmt4R0NDaZFWEjNkt7EXbhbqXf4GwKxyg3j8dlK\n",
              "WCoy3roOk/kA4odgLSdg9FCLCQB0dttGHXI3he2lNLHGgWPKK9UZYFf7qTOaHW3c93aKTs9Rz0rA\n",
              "a6C/2mLA3KELkpVixTxAhP/kJebsCqkXbxneFlkdw3kHKdz+9RqULUjrkTMwqSM7YWnN3KJew/He\n",
              "12/kj043G+bz/oFHSmhonMqU8XpFujmZXZ6DQuHp4Lw/I4xdxhWAnAPRBtXDIjc5Dn54ZefpgDu+\n",
              "TCRG7lvg3XGT4gW/tMjkAtb3zlNYl9pYHWX7UCIPfjbkMWCjmT5CqOnGT/DShn3uppErfZxlxNvW\n",
              "SNb8GMA9YZkX/q54um/Wl6Ti4UiYV1B1ffkM2V04GQhXaV9cOEqcFOR0ESm1FvQm65Sq6w5YAOxz\n",
              "UtklkEi0MkY3LF5Ty4dmtIRzn6fl97PfOkZuKFijRYP/DcmBuNIGV1GWDLyQSoQNHXxCjjilk6lX\n",
              "RRFoSve9R3v9/GA1QbPgZPAjBjt5gYCJWegMHaTV+155g8LYpQH2VOR+9bj66JMeKvAtGYb+RVz6\n",
              "NyvB0HqQeL+yfNR7M+/q35RGSpyWIGrCXKmtNY6Vmyp1q9rzSG2jJtfSjzymsddYhcMaq+DVnNLE\n",
              "aShCe3ZHAYkm9Ec/tuCxDWlDwRls2jjAcNIisQ0JaWfxalFqN5vIxLSQ9oDttQzTLZwteCHwe+9m\n",
              "KuceeK06cEqBcDk1kFiB0/pF1N00oFN/6m5hN6b19AdEUY8Wepq4zJOKY/M+sVSm+eZrorFt2HeO\n",
              "EmiwukPrAzUjCOs+csGC0M1YApY1XrDddagq6QUqvgxwjqZS3yyBlD43uFkATHRTpkDTm+FWoGDm\n",
              "yHGOwS/IDvqMMKiobF1YCZpbXIa714YoJhieU7aS+kmv+8nWWfFTQ3GBDHimAAOSXvBBCvZHSsqW\n",
              "UHtf6ISY+qOjZ7ihip4+76Y2vXaY8qyx5RDzlkLjOV5FUtymakUu/Ay/WsonLP2875hbfl2pz3g2\n",
              "5quqBBq+5opj6foFutKJOAwCARHnVpLqeR+OqQCgKcuEyyk8cVtKedCyzLXRERypraXWcoS6YxkS\n",
              "rtzKlgWAEPMuyDq/aKRYerErfhQQ7MO9JjFXWOT3M2UjBkFM4bugpTWOSGrxaps8R3TN86MybnZy\n",
              "FoXCZ8xyyVGqsU0jabVJw3aHFycJZiHuVezdh9TzLSos6pcAAA8KQZqHSeEKUmUwURLDf/6nhAAI\n",
              "N8jYLyBTMAIWOI57BESCkBkgZrR6BrNXl+B5FzJJJ1DlU2O15zKAJMuRenKSkN+a+rXydxZmCP+G\n",
              "bFX2Rv9g1kYqhFQtaI26YunLZtMiF/PYHyyZPFG+BPMmtSIvbde6qnb16miCn3Fy9hmH//1V82Ne\n",
              "oVHaIOSzyx8mTLCwIpGGaw8eDGc55EhaKvozW3RdBt0Fb7DEOOkUj6Vz8jiyWxa9bBZwie3uRwmB\n",
              "DvoAxCHkf5Ut5N6NTX8o3Qg5VDH+MXUKGxvWKnl4KAHyUTwbzQX86FE33bwe9gT9B9hi/M5U8tUq\n",
              "B1gQ7/tSFp3d42XS6kmhRUjTzkUb6TAlnXusOzGgrMp0uwHqtTW2xe4Yd162fqiVlviPsVTz/cJI\n",
              "5y9xpGtYSbzUXEMg4Ie9yPl54X49xqROaUW9JwwPWLmuMiTwSCS95ye/syp6o4Hq1GtOOGwzOHOx\n",
              "By91OYNJ56XmwFpkWtbbtGD9A9/jGeOyNrfLFFINGdHap6sV5b4Dy5HFoCspoW9d92uiJb1f6q1f\n",
              "y4bhbKH/qxXXWcYhwM4YhOIec9kdx4KvtldYn6afogXWRK+zRXijBRgJBWmFwRo6IuCjrzFX/xSg\n",
              "9io8po+Dh5Rf9zfZ4k2sbbjzL+p8qlEtf1aIaSOr9j6rDCY0pAlJsh8+b4tbWAqZs8GBV2+bZAyc\n",
              "G4YO/UxtxyL7OKWzccw7Vb8qClm12xUC4fJqvbi+E7iLf4/zLlpzr3RH8A0wqePt3U9Fp8gwgSXT\n",
              "UujEyIrOew/AGVRZ9aIh+ZvFTvsvigHliu7guRJ/hlw7O66+2EwEgStxPEbc1EBdKF0Pkqg55Np8\n",
              "N0fOHRVMHrsBNEk21Szo0HOXiB9rL6XxdYsZXc2omvKzMDvL0RU6gwhuE4ct7ZWdluEb5s7Yc4dR\n",
              "WgUX9LRFmmtkkKwxKF0eddRxPvMABQve5LMizfoyjsCNcYtoIlNgAdu28pu/vvs69cr5OkEcSC8B\n",
              "gtW6Qur9k7tbSpjmEgxhQefhoroq5755hYjDWx9R6rh5MMz6Tl/pTwF6xB8BcwtF/bfb5rFF37GP\n",
              "INgaxQxorJKJ/P2FCKvXM6Qj0dgfxk4/7ZFnGjej84M7Dm8pyspebX7ZrEjfHXp7ibH1EiUDL2SU\n",
              "tkUx6WXCdmzPblz/VTiBm4cuo4LO2Yqs9d31sR2h8uHWMBDlzkW+qJyhGQ/oPKkTpI4/+Pm1wnHi\n",
              "N4Tk3mmvcV2Ie9k1If9V6BMX06iecZcET+060Y+JhW7EDQPu2BzI4VhljvjT4TRlnvMZM2r6YlCo\n",
              "JNnqWEvFab+lqLod0mEFBe39NstStSJBHJ4n31E4x52QGVCsLhgWLccWXkiVCTYrHlmL6qdUTADI\n",
              "CbbYqZBHOGXUDqB6nhUtMivc2na22PcfVitx19P1oud8qQNimwIahNpyohAfoCUJYy/yBmQsRKvA\n",
              "gk+4wZgUEm+pXA3Sl38rKbsjjTbA02OhlR4T4i2T6XLrZ6CbUDct8VDZW0cbh5lWEmluGHq/x/9M\n",
              "6kuuZ1pWHnLeynqQ0OAS/KxfKC/PoYW55w+LZ6Jm5c0KWfKdIAVZF1bd6BbHRVUGRvDI/ikO037C\n",
              "rRJETsHXAPIoCzz5hzrV243mC8LLhQVPUYT0i6BIQsBPIThAr8RXldf0g5XWtKWnlxLuRwtNHI3V\n",
              "6h9YRHapXpAR2xU392r34b73rCZFatSrs8xH4+1A9nBhH7fHhMgXJYCUTUrqCWJZXGV5W21sbaH1\n",
              "N9J1J/2LAj3rzGsO/W2QeaD/m0cl5NFam9GHaTTH81gIY4ihESSreCM7/VhcXmcEm33t71DKqyCA\n",
              "GNyIWMgTndl0FREUO/+PkMQZkenCfLWWA/Oa4VEThUyjx0+ZJ8ouT5rJpruJlYv40ZOHZCZWrRUi\n",
              "+A/yAJpgVGJxudwm6zDR8CmC7cBvZVALWdBMzAWdtiH2/qSvEBYp6WgVfVd5OOsD9NauNA94wCt8\n",
              "k9iGdcySFimqSRCFjnHC+J5F/mZDCMQorBOnYYcSYUYFrsQ8TAEtUl/b/RE2+TMG5LShjW08elWw\n",
              "FtTsFenG2adUNUDCQ/eex8IEryWvw7PZRIvxooCvtbB0Of4l5TL2Gz6Noh4+28FD88FeRULruhnI\n",
              "pls78NQHbYf4Vo/8OBk5u8YsR1LM27/np+7tFbmxWfy0bP1iKhXknsQfICdYR9MDTe4L17V3qp2b\n",
              "AYVEDZYJiKH6IpCEdqSJQLhVpg6dsAYvaYMxOHC2itkLMSzCf0KZz+j92/ZabzloNaEMipmLC8dH\n",
              "R7skCsG4VsuYsnGBZqRi0zrCyVmfRUeT5YMwdyziQJgoVrQ5wDdnT7rPsCVbn0qfEE1SPtV1sdBC\n",
              "6tuXv3s7j+AkUG9lSiV7PpjfdTwDrgPRvTS1oTlGvKik9piQhfs2IcqlvRcIQVIE/UbIxhGZgvTS\n",
              "WYMvw8bEXlSU6Cz36nGoEauQaWh5s9tVr+hLf3r92wQj7Me+f9KpZS6w9hjUNXanypwjSE4tog5W\n",
              "fEXUKJNcrwlMWRtUeyvwwMSLj4U4Ma9R+5HKgkZ/QVVoHJMFidghUCRlQRwp28pVbp4utz5APCIM\n",
              "Iww2la+gG04ZCApj7W8ZaquSjYGbbYvRdJpZYp5/fpScbjvBHwxxtxuHBV/D5zoZ/GamRStkSp0s\n",
              "44iW1N01SKdTwOsSZ7ZyC/5l86WvENCOFfL/Qf/Jk7aIGgg7MjFqW6GQBOsO9ynQpYMCOV7VcBi+\n",
              "fSCRaxwYEjtwapqhBHuiRdNbsfxqYQwIlDAIouT+JOaIf7hd9JtDVwDy1Ji77OSBsCI46jRkYplA\n",
              "myAotA2hMM3J/rENB2TCcZctbFeyRUIara0cmQAse4m3KWzNtw7DW3Ibav6WvY0nCO3rK7iUu8/N\n",
              "hhGIqqNjDjaUhSA39eQr8pWaOAjIZIAosSSB4EbcAAA1/Jjn3jC0TV/sTGDeVJsMDtaOhXaPqlcF\n",
              "SbqnPRnOigpLietenmCzG2o8BOshRQgbQibfX3rHIwFkiyB1hVP3o8qz0DXUzppSVUikSpgP6Voc\n",
              "WORhHKyI1Pt7xbYw3u3maS5dWyHM0V8WV6FE2lpQCFvt4sEqqvBxe21iaD5pLtsysfQtnYgv/cZk\n",
              "xDsg/NDCYtidS+jvl3ugjnN+isAwW1r42Rp/x7dnCHIflJRp2MqRIRG615ASnt8We96DepeGBCdZ\n",
              "IECqfncPEiuVSC6BIXrvmrtxJUD8FX9bxPDx0ks3r21PfyUtDfovIPJc6JmI9WTAuqmtPCD3/0SX\n",
              "FnKjZkLRZYCeHLVA2qyJHdHZU9BRqVLSnHi9X6mXnYzoa10ZX+gMHGfjTjssYv4k8nAKsgQWwWzy\n",
              "y29E+yqjRqgBp/BrniqZw0o5jIapiKZ90vQgg1Y0N6vRPZP2T/EzS2bN74row9t/hi7WAw354bIz\n",
              "2NkaFa4/tPGcfh0z7Q0QQEErqC4ID75z7i/+QRx8p3VIRPYmK3J4MlwVgvnaqF3IkN0BrgJncceW\n",
              "ONTwLQ3p41HnDQ4ZdgDkuSd582/ZST4p40v1EfF3dgI6InNwU67w1CV+FqpQXQqbN3zxXNfF2pfo\n",
              "rtniQe+munoolv8G8g6JecwzuNs3rFwCOrOUjYWIrvzkJAzr5TPpVNbdX6lPC4MvF3f5H9GVgnz6\n",
              "IP/QbuL/MmeoTGPKDfAv3RCySWmHzH7z+DXY7MIsoBzoxxIeJc/GOUVkY5De5L8nfeNoXHIp5KUK\n",
              "kOazDO2ImuNb4aJDoIz3vMMJeH8GFR2/0fQ46zApxvypwq3yi0TXmWf/JD5bQRqGsN0YEfKp4I6q\n",
              "yXxSDr/Y0y+Xy9yqlRSfXEuWX42KkRFi9r5ahxc2Zj0l64pr9H26XRPLvx89agiQGT3EmpInEvxG\n",
              "lhBSBWDmlilhCHYnGdAYU6YRDV7Ziub/TP8kuvF4dpE1VEOnUr3drm5GA5fGDSGQXPZ2DFuIicmQ\n",
              "lSpol/TpvaXDDdS4fFJO9ouVEVVSsXahxO2EH91xIrjSq34te2qso2fFW2+5e9Zsp6k1VopzB+P0\n",
              "mgxCDU2R1U3tybSVP8+01Y6YCKMgaKG8JoUFJg63ndqhTyHxP+msAHQ2CVfci+Gvedm4xngAQGmO\n",
              "pB52/CWyH7d3fdvMZ83S5qMwtt133ESZgCCytzhihyVKuib0npDBOODhq3YTejL6xB9SULMjEY+R\n",
              "w1Efc/fO0e2QTeCRDSjHj0NHTs0b7GwfKJYTdw2cCF5tZsUmmaCmp2sOppV+WWXeVtez28ajxLQQ\n",
              "FistnOQVw5OB8Be0BI03mARHOGYGKFSxGIVonE3O7BsbplvjV8c+L5Gnc/G+FbkIRKhTMhO62xJR\n",
              "T4RHhXj8IWWK56empWiOWavLs2qTRotd/0uJU6ood/7+WBIIir1V5jNmpenXdRNX6u8gLvHIPC5c\n",
              "wOs9E1hnn/VVTm3NwbXZbcRX7+qPB95bWZmPZX4nj7Er+qqqMTR9ZJL/2qUB2X2T92x+HBNBPur4\n",
              "sOPce7F1QeMXccgpZnyCNkFNM5w23DMIVEEDM0TSgyYOeXVZeojzmrERGZJcVq4rmltNwM58myQR\n",
              "oJFt4yal1ZNmRzC+alJXV3dJL/50+v9iEFe1qC619IwDmhlmzggfGeD1HOu6sTGoR4J1ijW3knnF\n",
              "ooMX9ZVduwQSlE8RCuYeJv0xI7XseHLiIKPGwl+MS2REU89juRhaJHbPWkIu8ZNSeFFG6TbURtCJ\n",
              "DUr7Upaz7fgUIj2VksG5uhvR/Y9fnMQ9O6JdSD7dBAn7IV/1W5zxM/5O1sJn3S8rE424sco6IvOB\n",
              "+5oGLeo5/Ux0IanSVbAgqZmAfJKvuDNhv4wGqpSH4LpzXOw9di9kbFxT5FixhztGg9/hJ5IsF7V0\n",
              "IwwYK5d9AfIUIfPDFc+mzCWLkdhKbjo+7drkKFY5khUBFJ2XTwHxSUA0Rc6X/FZO/GU6ZBdOWHId\n",
              "GKlWFAi6du9V6RNN5AGT/LP+hjUgworaE64rbBJBmhx24IZ7N0F6j46DV/T08Z0u487hlictZwGd\n",
              "bax9eCKJpb1tSpQa+Wcm0Hi/ZGFNiCWPLMb2fCY38GdwN8vnCGdRrdgSpxEQVYLtXuHMgiu5l/6Z\n",
              "n3WRAMIkqe9CBAAR8QAAC68BnqZqQ38AAUd597pcA6LSJwAAAwIVvrx2OjDRcI2OTT4qlROlgHih\n",
              "FIrjfkhXOQYVTXOUbVg2Iyk8Y8MK/nVlwwwrQPfwPksi6uIuQs688YJjY58S888bfA2cEl3lbSnz\n",
              "gfx2W9lY4bKDuD7fjn4uZUlcw9wSntKG0IZzAzIy17UaVRxK9X0wozxT6kk+CFm/07Z1w15N3yub\n",
              "1qETnDWFnM1/xdSgAWVvfbdW3HRzBhEXUfWXj0JIkEvTX6hDWpiAoVkM46m1EIzgT3NhuFr9iLMh\n",
              "l+Xvm1h1T5huKShxHZhWqOUr7vrHR90d2VKf8kXtZNp8FoZQfKQc9FGwv5EhU+ndkOAGgSRh5vYe\n",
              "jdoMM4mrl03XuhlKvP3BEakFnhfaB4Q+nVa4uRMDymtelUo7R0ObWerOj2kTt2u45jaTxZndwj4v\n",
              "MxIXx39X0xxEhA63YXXFncZRr7LUeiKMVAwvSWrV3hSo8VRTcU43tDVInWMz3zhCa6hR8o1Cw12s\n",
              "U6RkIR7v5C0b8Fhe/L2jPzweMIACKjPN/NVQGzD9FdfMsJDlvNkiLcyGNBDZ/V60kpY/Amf5oK2N\n",
              "Nm3xA+JFS9vuWVA5eKVeNKYToxyVoL7GHw+H654q+5DpLHePDn4nO86xtNccud5gciNnVHdGeENB\n",
              "979fjZRUbnfYwO7RB/582JHxMRLihZ/LEeAsF760GQZOAUljtEX5nBT1Mmg3+IgqNiJ2mRGxTeHl\n",
              "bBWxSGgdbY/JwhHexcDJ4/M/7kfwa13hMpphv4utorScC4VxX37TeYmHQNiVGuiiD9ht38O0wWaS\n",
              "pKhnA0OMYKY1nlIrF31lgmmMfOwiAU9h/uOdrlBFqRXDyNq+1aQq8KQg81gvfba6s3cC0VF8bbkx\n",
              "XwYPjfP+XxsBI80eWY881OnxQoVwB9w64db7lkwPEpPpUZFYXOu/r8E2GC/qg410UZ+2BEhrKg4f\n",
              "w0Mm9/Q6JmCYjkaU24icFAmx6HVFXss4uGRlfIKOHaPYjBsuGZuz3933ypkyP5nVsRRi/00jT6tH\n",
              "yrSAU8RgwJLiIRaNnAq4f/QcuSqNjPweXeKba+BAor9mdFjZrl57WOeQv1Ngxeqxe01ecznaxwJl\n",
              "g9kRB8CLlzDQZtUA8pKisE2L5zdQaIVfGbUR7m69uOlEOrg+/q9r0SHnFermU7b3XLRGIhI4xzCm\n",
              "scXSMtxGj/rnKBCPyXwo9qcRfjnK075ZFWqI2tw3bXrZyGQ0mvoqvS1frQ5yCm0nGlRbmHHKsV8n\n",
              "X+SVFDYDGwI8gGae+qKVGGP0rkQWUkZQkUktHpRz+pXITzd8lfTuVtuWLcI860MY5RZV6a4Fgbjk\n",
              "9CiF1Aeul9asopTmWsK76NRpTmuRBfxgV5kAZfM9BFBJSW0RE12WQ+acv3gTvCVO24JOPCUJwsiD\n",
              "jVzljnlApG91xshxnpmru2mT0fkzeVYpBDkN+912V3rtDVQ6wdBKUHLuzzuL1+vTKRWL7LDggdhX\n",
              "vIIw/li8/F1/wAMm50D4+jmMvoRBOLQM9fs+XFaWvR4/3psFrp9kfU65KnCl+WNEUot3xsLCpk4q\n",
              "t0SIKZm6+iov7ybmqrBu97Pfs3CXcti8YZdq4t/W5nBz8sYmKyEieDbald9Hzu+qBsl4xxiLDCc1\n",
              "/XZllbmpqhI4/jNCcb87LGLNDDoTFjcZs6GC/u3SXtgOOsG3Z1dmqtIS+bmbysXsZUduj3VvSEpy\n",
              "go2zB7itUFKIIOx9F0Z39P0R95a3A6KO9XzqpOlZRYvy0qGnQ05ohuQn6DfnnlpkwT9C3vzsus+T\n",
              "gm7FwO7T42yRZv2N88ltfitu29kipMz4JDoX+dszsAoKiDsMWhD8GSyv5ijpwL99ogPWKPbiBU2t\n",
              "QsWJbF1MSFNvFUU3MMGRkKdMjXU6dmjFnBRBfMgds/6qLnqMDwZhrEvUP8Nyz67rCOzCJXUKp/xQ\n",
              "0pyToDfSLdH6c/8YpRYkH2TbXuYV3w/1URuPwCEfW4BZewmGQQzOI4tgmeESEXbumR9A6nmN9KXR\n",
              "nr9D0UjqpGAe279691HHte/JEUCDevJc0ipJW0+sltEQPZ+g1EoNHIsRvdLo309Gy7YYkdgsVA03\n",
              "IAymldATlm7OTHnspaKV/5NrfDxphjBluOn522AoHuS/6nF9F54Azd/cEzKYZXfSNWxpgtsRwNDb\n",
              "m5M8814iuZmAKWjbRq15tgNx2WFxz3b5RB5VlEpgSZQrXJzBY3muiP1JRSokBJupOKmc4AP17znU\n",
              "yAbMDR3jwA9Z9w6uqAOJyCcKQI3GbL78v8SusCjA5cMEiQfyvDBM3dbZOD+2u1XLVur3GHl4hrPU\n",
              "Db9MHXLkpkc0WcwZtGLVBPHnuuFo75wczqMcuUU5mr9bgmOIdtgY7vf9AaNiYe4GarV5eDfXI+9n\n",
              "9JVcWYj4SNGoG2VjRqZfJeZOHR3242FaI7Tn/+ob6iez6pTNqzUMAJJrqrFivBjJO+VJ/20hL1tL\n",
              "Wbbb/XxfEdYyq5gPePrADXbte113QqMdr1Yea8BCNAU/bsK5alcdcHEGksYBsQFPRUUzhhrBZGgy\n",
              "NGutcxC2ez/2GHcUHInoT8AGTUJBfgRHSKfCk1LFDCw3m4bD9SU1XBVdck6SGjgT0aXj8+u/RF57\n",
              "rHT0fG7NowrJT3cmN3yYSYONQ/BJQdZx9BazKWHF8xi4Ge/JsIGZICPe1PTlJ8KxCSOHTqhIbFEG\n",
              "bxXbwIzMPdmAsTTzDQISa/EhbGTvXup/f4XKNEFYO0vLn/o6MYmWNtUIx87s8ZtEnkuHKK+qKCt5\n",
              "rW/JJEltJxGLNJtYP2yPhRPsP0PW5sQNXx73v6vaF3n02Iy0SEw+bpj8tAUk+M+Q0Aq+f9Go4hpS\n",
              "Xdp9KdoPv/yT6yTr9rFd3cXec3sxr3VaEdi1YpYLQ7nKYNVZzXM0G3fo6GA8p4oxpaAqIkyh2Vg8\n",
              "m+6hr8Y+b8V2+RmB6Wj+OEwCS0eWdu5sygkJe258CPDJYj4sfaFiychYgqpFhkugcrELjtXVke6h\n",
              "FI4oq10kllHP3t8yIXje65KDm4jPGtCb8w4ARGAVbsLVOQrlv6HB2P/Nr5VOILkQVrI/U28GijOO\n",
              "CJ92ed8F8fHAoVobtJ59RntUZSBDSrn6iGgXpFUkMvSYdYfqRp4tFlj43pZoYldw3MWq9q55bTBO\n",
              "Q5t76uxOP6eo6liKrMu3aZlp8XYY3zIJ7O5AZFnqdWjQ9Xb040rT0TlAjFUH0XN3ICxUkSeqbuC3\n",
              "dJ2yboFKZIMRm7v6cc9tWjA+URqw1l+p+XCoOFsEq5g+9lF9omE7VzyLgPQgOXtS2pJZeWCjv7Ji\n",
              "GildorusKWCHSBNSYepUQVVb/dQslfku/n5dIwAxbh0Ma8qhIpqpr0BdG9yilw1bnDbSpmu+ZnkQ\n",
              "2+pBuK331msNEqGelmUa5cPgD9VQTbpmyZkXbgenxVbrEZlEHFZZQHatPXXzl/NgjmQVS+uCZYr9\n",
              "lq5lSzMRyV2Y/sIlRRSIL4s3/0w4rwsv0CVyYxcjV53+Lt1JQAqBEEMX14t/Ta0CJVY8RCsuhuqt\n",
              "GkI2hi1ScUl2VBpQYngz2ubMjaYyIQFnt6j4HssWuQsZXgB2vprPAVgiNwRgSvOoF6r/hF8i1w/O\n",
              "RRQ+yZdpdNeV+tePE6cys/rcE+UdrFXAfRDVEjBrjlKCrN+zqkh0rbf1S1fge776f3zbgcwywUCz\n",
              "coAU5fyPL2YCHKc54u1oQIji6EVn+gxxp6awwOSsnf+CuA5vmjQMec3hxgBLgaSO6uR2dHmKY9qr\n",
              "wEqu083+EVpch/doaL1iBu6hW/3Iwc981fkwvU/eHg4YuYgSQONiZYNQ2kmetvrZOLJ+He8ntBnF\n",
              "GKfD/GPv1p1ykti186hqvmPlkMXauRbjkR/0ioOsyHk6r2iDJRIoranlw+VfHmU5IaiGBdowMAXP\n",
              "AiA9bKV6cn6cxz/likAYm7Gzr8XMdf3a2tjAnP6OdehMJ0nFros0IREgKaEAAAOObW9vdgAAAGxt\n",
              "dmhkAAAAAAAAAAAAAAAAAAAD6AAAAyAAAQAAAQAAAAAAAAAAAAAAAAEAAAAAAAAAAAAAAAAAAAAB\n",
              "AAAAAAAAAAAAAAAAAABAAAAAAAAAAAAAAAAAAAAAAAAAAAAAAAAAAAAAAAAAAgAAArh0cmFrAAAA\n",
              "XHRraGQAAAADAAAAAAAAAAAAAAABAAAAAAAAAyAAAAAAAAAAAAAAAAAAAAAAAAEAAAAAAAAAAAAA\n",
              "AAAAAAABAAAAAAAAAAAAAAAAAABAAAAAAoAAAAHgAAAAAAAkZWR0cwAAABxlbHN0AAAAAAAAAAEA\n",
              "AAMgAAAIAAABAAAAAAIwbWRpYQAAACBtZGhkAAAAAAAAAAAAAAAAAAAoAAAAIABVxAAAAAAALWhk\n",
              "bHIAAAAAAAAAAHZpZGUAAAAAAAAAAAAAAABWaWRlb0hhbmRsZXIAAAAB221pbmYAAAAUdm1oZAAA\n",
              "AAEAAAAAAAAAAAAAACRkaW5mAAAAHGRyZWYAAAAAAAAAAQAAAAx1cmwgAAAAAQAAAZtzdGJsAAAA\n",
              "s3N0c2QAAAAAAAAAAQAAAKNhdmMxAAAAAAAAAAEAAAAAAAAAAAAAAAAAAAAAAoAB4ABIAAAASAAA\n",
              "AAAAAAABAAAAAAAAAAAAAAAAAAAAAAAAAAAAAAAAAAAAAAAAAAAAGP//AAAAMWF2Y0MBZAAW/+EA\n",
              "GGdkABas2UCgPaEAAAMAAQAAAwAUDxYtlgEABmjr48siwAAAABx1dWlka2hA8l8kT8W6OaUbzwMj\n",
              "8wAAAAAAAAAYc3R0cwAAAAAAAAABAAAACAAABAAAAAAUc3RzcwAAAAAAAAABAAAAAQAAAFBjdHRz\n",
              "AAAAAAAAAAgAAAABAAAIAAAAAAEAABQAAAAAAQAACAAAAAABAAAAAAAAAAEAAAQAAAAAAQAACAAA\n",
              "AAABAAAMAAAAAAEAAAQAAAAAHHN0c2MAAAAAAAAAAQAAAAEAAAAIAAAAAQAAADRzdHN6AAAAAAAA\n",
              "AAAAAAAIAAAqnAAAE40AAA3sAAAK4wAACmAAAA+7AAAPDgAAC7MAAAAUc3RjbwAAAAAAAAABAAAA\n",
              "LAAAAGJ1ZHRhAAAAWm1ldGEAAAAAAAAAIWhkbHIAAAAAAAAAAG1kaXJhcHBsAAAAAAAAAAAAAAAA\n",
              "LWlsc3QAAAAlqXRvbwAAAB1kYXRhAAAAAQAAAABMYXZmNTguMjkuMTAw\n",
              "\">\n",
              "  Your browser does not support the video tag.\n",
              "</video>"
            ],
            "text/plain": [
              "<IPython.core.display.HTML object>"
            ]
          },
          "execution_count": 26,
          "metadata": {},
          "output_type": "execute_result"
        }
      ],
      "source": [
        "# np array with shape (frames, height, width, channels)\n",
        "video = np.array(clip)\n",
        "\n",
        "fig = plt.figure()\n",
        "im = plt.imshow(video[0,:,:,:])\n",
        "\n",
        "plt.close() # this is required to not display the generated image\n",
        "\n",
        "def init():\n",
        "    im.set_data(video[0,:,:,:])\n",
        "\n",
        "def animate(i):\n",
        "    im.set_data(video[i,:,:,:])\n",
        "    return im\n",
        "\n",
        "anim = animation.FuncAnimation(fig, animate, init_func=init, frames=video.shape[0],\n",
        "                               interval=100)\n",
        "HTML(anim.to_html5_video())"
      ]
    },
    {
      "cell_type": "code",
      "execution_count": null,
      "metadata": {
        "id": "2rdNZDG5lvD1",
        "outputId": "38039271-d891-432e-d221-5a36996e6df7"
      },
      "outputs": [
        {
          "data": {
            "text/plain": [
              "('Which object was eaten by the person?',\n",
              " ['The refrigerator.', 'The medicine.', 'The picture.', 'The sandwich.'],\n",
              " 'The medicine.')"
            ]
          },
          "execution_count": 24,
          "metadata": {},
          "output_type": "execute_result"
        }
      ],
      "source": [
        "example[\"question\"], example[\"candidates\"], example[\"answer\"]"
      ]
    },
    {
      "cell_type": "markdown",
      "metadata": {
        "id": "lsc4WadilvD1"
      },
      "source": [
        "And now we wrap it in the Pytorch Datasets class and print one example as sanity check."
      ]
    },
    {
      "cell_type": "code",
      "execution_count": null,
      "metadata": {
        "id": "ZXPeOA34lvD1"
      },
      "outputs": [],
      "source": [
        "train_dataset = VideoLlavaDataset(dataset[\"train\"])\n",
        "eval_dataset = VideoLlavaDataset(dataset[\"test\"])"
      ]
    },
    {
      "cell_type": "code",
      "execution_count": null,
      "metadata": {
        "id": "AeI7LaF4lvD1"
      },
      "outputs": [],
      "source": [
        "prompt, clip = train_dataset[0]"
      ]
    },
    {
      "cell_type": "code",
      "execution_count": null,
      "metadata": {
        "id": "fzcocRe1lvD1",
        "outputId": "b3948347-d146-432e-c8da-7a3ca7e83398"
      },
      "outputs": [
        {
          "data": {
            "text/plain": [
              "'USER: <video>\\nAnswer the following multiple choice question based on the video. Question: Which object was eaten by the person?\\n A. The refrigerator.; B. The medicine.; C. The picture.; D. The sandwich.; \\n ASSISTANT: Answer: B'"
            ]
          },
          "execution_count": 29,
          "metadata": {},
          "output_type": "execute_result"
        }
      ],
      "source": [
        "prompt"
      ]
    },
    {
      "cell_type": "markdown",
      "metadata": {
        "id": "pd4mrynzlvD2"
      },
      "source": [
        "## Load model\n",
        "Next, we're going to load the Video-LLaVa model from the hub. This is a model with about 7 billion trainable parameters (as it combines a LLaMa-7B language model with a relatively low-parameter vision encoder). Do note that we load a model here which already has undergone supervised fine-tuning (SFT) on VideoChat instruction dataset. We can benefit from the fine-tuning that the model already has undergone.\n",
        "\n",
        "## Full fine-tuning, LoRa and Q-LoRa\n",
        "As this model has 7 billion trainable parameters, that's going to have quite an impact on the amount of memory used. For reference, fine-tuning a model using the AdamW optimizer (which is often used to optimize neural networks) with mixed precision, you need about 18 times the amount of parameters in GB of GPU RAM. So in this case, we would need 18x7 billion bytes = 126 GB of GPU RAM if we want to update all the parameters of the model!! That's huge right? And for most people infeasible.\n",
        "\n",
        "Luckily, some clever people came up with the LoRa method (LoRa is short for low-rank adapation). It allows to just freeze the existing weights and only train a couple of adapter layers on top of the base model. Hugging Face offers the separate [PEFT library](https://huggingface.co/docs/peft/main/en/index) for easy use of LoRa, along with other Parameter-Efficient Fine-Tuning methods (that's where the name PEFT comes from).\n",
        "\n",
        "Moreover, one can not only freeze the existing base model but also quantize it (which means, shrinking down its size). A neural network's parameters are typically saved in either float32 (which means, 32 bits or 4 bytes are used to store each parameter value) or float16 (which means, 16 bits or half a byte - also called half precision). However, with some clever algorithms one can shrink each parameter to just 8 or 4 bits (half a byte!), without significant effect on final performance. Read all about it here: https://huggingface.co/blog/4bit-transformers-bitsandbytes.\n",
        "\n",
        "This means that we're going to shrink the size of the base Idefics2-8b model considerably using 4-bit quantization, and then only train a couple of adapter layers on top using LoRa (in float16). This idea of combining LoRa with quantization is called Q-LoRa and is the most memory friendly version.\n",
        "\n",
        "Of course, if you have the memory available, feel free to use full fine-tuning or LoRa without quantization! In case of full fine-tuning, the code snippet below instantiates the model with Flash Attention which considerably speeds up computations.\n",
        "\n",
        "There exist many forms of quantization, here we leverage the [BitsAndBytes integration](https://huggingface.co/docs/transformers/main_classes/quantization#transformers.BitsAndBytesConfig)."
      ]
    },
    {
      "cell_type": "code",
      "execution_count": null,
      "metadata": {
        "colab": {
          "referenced_widgets": [
            "0b428184283c4dcd8f2fa10ff3adbf04"
          ]
        },
        "id": "DQ0nTqbVlvD2",
        "outputId": "044885b1-6d44-46bb-e2c5-16038a34fdb2"
      },
      "outputs": [
        {
          "name": "stderr",
          "output_type": "stream",
          "text": [
            "The model weights are not tied. Please use the `tie_weights` method before using the `infer_auto_device` function.\n"
          ]
        },
        {
          "data": {
            "application/vnd.jupyter.widget-view+json": {
              "model_id": "0b428184283c4dcd8f2fa10ff3adbf04",
              "version_major": 2,
              "version_minor": 0
            },
            "text/plain": [
              "Loading checkpoint shards:   0%|          | 0/3 [00:00<?, ?it/s]"
            ]
          },
          "metadata": {},
          "output_type": "display_data"
        }
      ],
      "source": [
        "## Load model\n",
        "# Three options for training, from the lowest precision training to the highest precision training:\n",
        "# QLoRA: model uses 4-bit quantization, which helps in reducing memory usage while maintaining performance.\n",
        "# Standard LoRA:  model is loaded with standard LoRA adaptations.\n",
        "# Full Fine-Tuning: no memory optimization are done. In that case Flash Attention is used to speed up training, if hardware supports it.\n",
        "\n",
        "if USE_QLORA or USE_LORA:\n",
        "    if USE_QLORA:\n",
        "        bnb_config = BitsAndBytesConfig(\n",
        "            load_in_4bit=True,\n",
        "            bnb_4bit_quant_type=\"nf4\",\n",
        "            bnb_4bit_compute_dtype=torch.float16,\n",
        "        )\n",
        "    model = VideoLlavaForConditionalGeneration.from_pretrained(\n",
        "        MODEL_ID,\n",
        "        torch_dtype=torch.float16,\n",
        "        quantization_config=bnb_config,\n",
        "        device_map=\"auto\",\n",
        "    )\n",
        "else:\n",
        "    # for full fine-tuning, we can speed up the model using Flash Attention\n",
        "    # only available on certain devices, see https://github.com/Dao-AILab/flash-attention?tab=readme-ov-file#installation-and-features\n",
        "    model = VideoLlavaForConditionalGeneration.from_pretrained(\n",
        "        MODEL_ID,\n",
        "        torch_dtype=torch.float16,\n",
        "        _attn_implementation=\"flash_attention_2\",\n",
        "        device_map=\"auto\",\n",
        "    )"
      ]
    },
    {
      "cell_type": "markdown",
      "metadata": {
        "id": "aNtOGpvplvD2"
      },
      "source": [
        "## Apply PEFT\n",
        "After loading the base model, we're going to add LoRa adapter layers. We're going to only train these adapter layers (the base model is kept frozen).\n",
        "\n",
        "The difference here with other models are the layers at which we're going to add adapters (in PEFT this is called target_modules). This typically depends a bit on the model.\n",
        "\n",
        "We defined a function to find all linear layers in the model, excluding any layers related to multimodal projections and vision models. This function will help us identify which layers should have LoRA applied. We're going to add adapters to all linear layers of the model (nn.Linear), except for the ones present in the vision encoder and multimodal projector. This means that we're mostly going to adapt the language model part of Video-LLaVa for our use case."
      ]
    },
    {
      "cell_type": "code",
      "execution_count": null,
      "metadata": {
        "id": "MYDW50LslvD2"
      },
      "outputs": [],
      "source": [
        "def find_all_linear_names(model):\n",
        "    cls = torch.nn.Linear\n",
        "    lora_module_names = set()\n",
        "    multimodal_keywords = ['multi_modal_projector', 'vision_model']\n",
        "    for name, module in model.named_modules():\n",
        "        if any(mm_keyword in name for mm_keyword in multimodal_keywords):\n",
        "            continue\n",
        "        if isinstance(module, cls):\n",
        "            names = name.split('.')\n",
        "            lora_module_names.add(names[0] if len(names) == 1 else names[-1])\n",
        "\n",
        "    if 'lm_head' in lora_module_names: # needed for 16-bit\n",
        "        lora_module_names.remove('lm_head')\n",
        "    return list(lora_module_names)\n",
        "\n",
        "\n",
        "lora_config = LoraConfig(\n",
        "    r=8,\n",
        "    lora_alpha=8,\n",
        "    lora_dropout=0.1,\n",
        "    target_modules=find_all_linear_names(model),\n",
        "    init_lora_weights=\"gaussian\",\n",
        ")\n",
        "\n",
        "model = prepare_model_for_kbit_training(model)\n",
        "model = get_peft_model(model, lora_config)"
      ]
    },
    {
      "cell_type": "code",
      "execution_count": null,
      "metadata": {
        "scrolled": true,
        "id": "QPNYtC1QlvD2",
        "outputId": "014f17a2-ccf2-41d1-c126-cc68cbf034e9"
      },
      "outputs": [
        {
          "data": {
            "text/plain": [
              "PeftModel(\n",
              "  (base_model): LoraModel(\n",
              "    (model): VideoLlavaForConditionalGeneration(\n",
              "      (video_tower): CLIPVisionModel(\n",
              "        (vision_model): CLIPVisionTransformer(\n",
              "          (embeddings): CLIPVisionEmbeddings(\n",
              "            (patch_embedding): Conv2d(3, 1024, kernel_size=(14, 14), stride=(14, 14), bias=False)\n",
              "            (position_embedding): Embedding(257, 1024)\n",
              "          )\n",
              "          (pre_layrnorm): LayerNorm((1024,), eps=1e-05, elementwise_affine=True)\n",
              "          (encoder): CLIPEncoder(\n",
              "            (layers): ModuleList(\n",
              "              (0-23): 24 x CLIPEncoderLayer(\n",
              "                (self_attn): CLIPAttention(\n",
              "                  (k_proj): lora.Linear4bit(\n",
              "                    (base_layer): Linear4bit(in_features=1024, out_features=1024, bias=True)\n",
              "                    (lora_dropout): ModuleDict(\n",
              "                      (default): Dropout(p=0.1, inplace=False)\n",
              "                    )\n",
              "                    (lora_A): ModuleDict(\n",
              "                      (default): Linear(in_features=1024, out_features=8, bias=False)\n",
              "                    )\n",
              "                    (lora_B): ModuleDict(\n",
              "                      (default): Linear(in_features=8, out_features=1024, bias=False)\n",
              "                    )\n",
              "                    (lora_embedding_A): ParameterDict()\n",
              "                    (lora_embedding_B): ParameterDict()\n",
              "                  )\n",
              "                  (v_proj): lora.Linear4bit(\n",
              "                    (base_layer): Linear4bit(in_features=1024, out_features=1024, bias=True)\n",
              "                    (lora_dropout): ModuleDict(\n",
              "                      (default): Dropout(p=0.1, inplace=False)\n",
              "                    )\n",
              "                    (lora_A): ModuleDict(\n",
              "                      (default): Linear(in_features=1024, out_features=8, bias=False)\n",
              "                    )\n",
              "                    (lora_B): ModuleDict(\n",
              "                      (default): Linear(in_features=8, out_features=1024, bias=False)\n",
              "                    )\n",
              "                    (lora_embedding_A): ParameterDict()\n",
              "                    (lora_embedding_B): ParameterDict()\n",
              "                  )\n",
              "                  (q_proj): lora.Linear4bit(\n",
              "                    (base_layer): Linear4bit(in_features=1024, out_features=1024, bias=True)\n",
              "                    (lora_dropout): ModuleDict(\n",
              "                      (default): Dropout(p=0.1, inplace=False)\n",
              "                    )\n",
              "                    (lora_A): ModuleDict(\n",
              "                      (default): Linear(in_features=1024, out_features=8, bias=False)\n",
              "                    )\n",
              "                    (lora_B): ModuleDict(\n",
              "                      (default): Linear(in_features=8, out_features=1024, bias=False)\n",
              "                    )\n",
              "                    (lora_embedding_A): ParameterDict()\n",
              "                    (lora_embedding_B): ParameterDict()\n",
              "                  )\n",
              "                  (out_proj): Linear4bit(in_features=1024, out_features=1024, bias=True)\n",
              "                )\n",
              "                (layer_norm1): LayerNorm((1024,), eps=1e-05, elementwise_affine=True)\n",
              "                (mlp): CLIPMLP(\n",
              "                  (activation_fn): QuickGELUActivation()\n",
              "                  (fc1): Linear4bit(in_features=1024, out_features=4096, bias=True)\n",
              "                  (fc2): Linear4bit(in_features=4096, out_features=1024, bias=True)\n",
              "                )\n",
              "                (layer_norm2): LayerNorm((1024,), eps=1e-05, elementwise_affine=True)\n",
              "              )\n",
              "            )\n",
              "          )\n",
              "          (post_layernorm): LayerNorm((1024,), eps=1e-05, elementwise_affine=True)\n",
              "        )\n",
              "      )\n",
              "      (image_tower): CLIPVisionModel(\n",
              "        (vision_model): CLIPVisionTransformer(\n",
              "          (embeddings): CLIPVisionEmbeddings(\n",
              "            (patch_embedding): Conv2d(3, 1024, kernel_size=(14, 14), stride=(14, 14), bias=False)\n",
              "            (position_embedding): Embedding(257, 1024)\n",
              "          )\n",
              "          (pre_layrnorm): LayerNorm((1024,), eps=1e-05, elementwise_affine=True)\n",
              "          (encoder): CLIPEncoder(\n",
              "            (layers): ModuleList(\n",
              "              (0-23): 24 x CLIPEncoderLayer(\n",
              "                (self_attn): CLIPAttention(\n",
              "                  (k_proj): lora.Linear4bit(\n",
              "                    (base_layer): Linear4bit(in_features=1024, out_features=1024, bias=True)\n",
              "                    (lora_dropout): ModuleDict(\n",
              "                      (default): Dropout(p=0.1, inplace=False)\n",
              "                    )\n",
              "                    (lora_A): ModuleDict(\n",
              "                      (default): Linear(in_features=1024, out_features=8, bias=False)\n",
              "                    )\n",
              "                    (lora_B): ModuleDict(\n",
              "                      (default): Linear(in_features=8, out_features=1024, bias=False)\n",
              "                    )\n",
              "                    (lora_embedding_A): ParameterDict()\n",
              "                    (lora_embedding_B): ParameterDict()\n",
              "                  )\n",
              "                  (v_proj): lora.Linear4bit(\n",
              "                    (base_layer): Linear4bit(in_features=1024, out_features=1024, bias=True)\n",
              "                    (lora_dropout): ModuleDict(\n",
              "                      (default): Dropout(p=0.1, inplace=False)\n",
              "                    )\n",
              "                    (lora_A): ModuleDict(\n",
              "                      (default): Linear(in_features=1024, out_features=8, bias=False)\n",
              "                    )\n",
              "                    (lora_B): ModuleDict(\n",
              "                      (default): Linear(in_features=8, out_features=1024, bias=False)\n",
              "                    )\n",
              "                    (lora_embedding_A): ParameterDict()\n",
              "                    (lora_embedding_B): ParameterDict()\n",
              "                  )\n",
              "                  (q_proj): lora.Linear4bit(\n",
              "                    (base_layer): Linear4bit(in_features=1024, out_features=1024, bias=True)\n",
              "                    (lora_dropout): ModuleDict(\n",
              "                      (default): Dropout(p=0.1, inplace=False)\n",
              "                    )\n",
              "                    (lora_A): ModuleDict(\n",
              "                      (default): Linear(in_features=1024, out_features=8, bias=False)\n",
              "                    )\n",
              "                    (lora_B): ModuleDict(\n",
              "                      (default): Linear(in_features=8, out_features=1024, bias=False)\n",
              "                    )\n",
              "                    (lora_embedding_A): ParameterDict()\n",
              "                    (lora_embedding_B): ParameterDict()\n",
              "                  )\n",
              "                  (out_proj): Linear4bit(in_features=1024, out_features=1024, bias=True)\n",
              "                )\n",
              "                (layer_norm1): LayerNorm((1024,), eps=1e-05, elementwise_affine=True)\n",
              "                (mlp): CLIPMLP(\n",
              "                  (activation_fn): QuickGELUActivation()\n",
              "                  (fc1): Linear4bit(in_features=1024, out_features=4096, bias=True)\n",
              "                  (fc2): Linear4bit(in_features=4096, out_features=1024, bias=True)\n",
              "                )\n",
              "                (layer_norm2): LayerNorm((1024,), eps=1e-05, elementwise_affine=True)\n",
              "              )\n",
              "            )\n",
              "          )\n",
              "          (post_layernorm): LayerNorm((1024,), eps=1e-05, elementwise_affine=True)\n",
              "        )\n",
              "      )\n",
              "      (multi_modal_projector): VideoLlavaMultiModalProjector(\n",
              "        (linear_1): Linear4bit(in_features=1024, out_features=4096, bias=True)\n",
              "        (act): GELUActivation()\n",
              "        (linear_2): Linear4bit(in_features=4096, out_features=4096, bias=True)\n",
              "      )\n",
              "      (language_model): LlamaForCausalLM(\n",
              "        (model): LlamaModel(\n",
              "          (embed_tokens): Embedding(32064, 4096, padding_idx=0)\n",
              "          (layers): ModuleList(\n",
              "            (0-31): 32 x LlamaDecoderLayer(\n",
              "              (self_attn): LlamaSdpaAttention(\n",
              "                (q_proj): lora.Linear4bit(\n",
              "                  (base_layer): Linear4bit(in_features=4096, out_features=4096, bias=False)\n",
              "                  (lora_dropout): ModuleDict(\n",
              "                    (default): Dropout(p=0.1, inplace=False)\n",
              "                  )\n",
              "                  (lora_A): ModuleDict(\n",
              "                    (default): Linear(in_features=4096, out_features=8, bias=False)\n",
              "                  )\n",
              "                  (lora_B): ModuleDict(\n",
              "                    (default): Linear(in_features=8, out_features=4096, bias=False)\n",
              "                  )\n",
              "                  (lora_embedding_A): ParameterDict()\n",
              "                  (lora_embedding_B): ParameterDict()\n",
              "                )\n",
              "                (k_proj): lora.Linear4bit(\n",
              "                  (base_layer): Linear4bit(in_features=4096, out_features=4096, bias=False)\n",
              "                  (lora_dropout): ModuleDict(\n",
              "                    (default): Dropout(p=0.1, inplace=False)\n",
              "                  )\n",
              "                  (lora_A): ModuleDict(\n",
              "                    (default): Linear(in_features=4096, out_features=8, bias=False)\n",
              "                  )\n",
              "                  (lora_B): ModuleDict(\n",
              "                    (default): Linear(in_features=8, out_features=4096, bias=False)\n",
              "                  )\n",
              "                  (lora_embedding_A): ParameterDict()\n",
              "                  (lora_embedding_B): ParameterDict()\n",
              "                )\n",
              "                (v_proj): lora.Linear4bit(\n",
              "                  (base_layer): Linear4bit(in_features=4096, out_features=4096, bias=False)\n",
              "                  (lora_dropout): ModuleDict(\n",
              "                    (default): Dropout(p=0.1, inplace=False)\n",
              "                  )\n",
              "                  (lora_A): ModuleDict(\n",
              "                    (default): Linear(in_features=4096, out_features=8, bias=False)\n",
              "                  )\n",
              "                  (lora_B): ModuleDict(\n",
              "                    (default): Linear(in_features=8, out_features=4096, bias=False)\n",
              "                  )\n",
              "                  (lora_embedding_A): ParameterDict()\n",
              "                  (lora_embedding_B): ParameterDict()\n",
              "                )\n",
              "                (o_proj): lora.Linear4bit(\n",
              "                  (base_layer): Linear4bit(in_features=4096, out_features=4096, bias=False)\n",
              "                  (lora_dropout): ModuleDict(\n",
              "                    (default): Dropout(p=0.1, inplace=False)\n",
              "                  )\n",
              "                  (lora_A): ModuleDict(\n",
              "                    (default): Linear(in_features=4096, out_features=8, bias=False)\n",
              "                  )\n",
              "                  (lora_B): ModuleDict(\n",
              "                    (default): Linear(in_features=8, out_features=4096, bias=False)\n",
              "                  )\n",
              "                  (lora_embedding_A): ParameterDict()\n",
              "                  (lora_embedding_B): ParameterDict()\n",
              "                )\n",
              "                (rotary_emb): LlamaRotaryEmbedding()\n",
              "              )\n",
              "              (mlp): LlamaMLP(\n",
              "                (gate_proj): lora.Linear4bit(\n",
              "                  (base_layer): Linear4bit(in_features=4096, out_features=11008, bias=False)\n",
              "                  (lora_dropout): ModuleDict(\n",
              "                    (default): Dropout(p=0.1, inplace=False)\n",
              "                  )\n",
              "                  (lora_A): ModuleDict(\n",
              "                    (default): Linear(in_features=4096, out_features=8, bias=False)\n",
              "                  )\n",
              "                  (lora_B): ModuleDict(\n",
              "                    (default): Linear(in_features=8, out_features=11008, bias=False)\n",
              "                  )\n",
              "                  (lora_embedding_A): ParameterDict()\n",
              "                  (lora_embedding_B): ParameterDict()\n",
              "                )\n",
              "                (up_proj): lora.Linear4bit(\n",
              "                  (base_layer): Linear4bit(in_features=4096, out_features=11008, bias=False)\n",
              "                  (lora_dropout): ModuleDict(\n",
              "                    (default): Dropout(p=0.1, inplace=False)\n",
              "                  )\n",
              "                  (lora_A): ModuleDict(\n",
              "                    (default): Linear(in_features=4096, out_features=8, bias=False)\n",
              "                  )\n",
              "                  (lora_B): ModuleDict(\n",
              "                    (default): Linear(in_features=8, out_features=11008, bias=False)\n",
              "                  )\n",
              "                  (lora_embedding_A): ParameterDict()\n",
              "                  (lora_embedding_B): ParameterDict()\n",
              "                )\n",
              "                (down_proj): lora.Linear4bit(\n",
              "                  (base_layer): Linear4bit(in_features=11008, out_features=4096, bias=False)\n",
              "                  (lora_dropout): ModuleDict(\n",
              "                    (default): Dropout(p=0.1, inplace=False)\n",
              "                  )\n",
              "                  (lora_A): ModuleDict(\n",
              "                    (default): Linear(in_features=11008, out_features=8, bias=False)\n",
              "                  )\n",
              "                  (lora_B): ModuleDict(\n",
              "                    (default): Linear(in_features=8, out_features=4096, bias=False)\n",
              "                  )\n",
              "                  (lora_embedding_A): ParameterDict()\n",
              "                  (lora_embedding_B): ParameterDict()\n",
              "                )\n",
              "                (act_fn): SiLU()\n",
              "              )\n",
              "              (input_layernorm): LlamaRMSNorm()\n",
              "              (post_attention_layernorm): LlamaRMSNorm()\n",
              "            )\n",
              "          )\n",
              "          (norm): LlamaRMSNorm()\n",
              "        )\n",
              "        (lm_head): Linear(in_features=4096, out_features=32064, bias=False)\n",
              "      )\n",
              "    )\n",
              "  )\n",
              ")"
            ]
          },
          "execution_count": 11,
          "metadata": {},
          "output_type": "execute_result"
        }
      ],
      "source": [
        "model"
      ]
    },
    {
      "cell_type": "markdown",
      "metadata": {
        "id": "zuv04h-DlvD2"
      },
      "source": [
        "## Define PyTorch Lightning Module for Video-LLaVA\n",
        "To streamline the training and evaluation of the Video-LLaVA model, we use [LightningModule](https://lightning.ai/docs/pytorch/stable/common/lightning_module.html), which abstracts away much of the boilerplate code and provides a structured framework for model training. In this section, we define the VideoLlavaModelPLModule, a custom PyTorch Lightning module that encapsulates the model, training loop, validation loop, and optimizer configuration.\n",
        "\n",
        "### VideoLlavaModelPLModule Class\n",
        "\n",
        "The VideoLlavaModelPLModule class inherits from LightningModule and includes methods for training, validation, and optimizer configuration. This setup ensures a clean and efficient training process.\n",
        "\n",
        "Basically, PyTorch Lightning will take care of all device placements (.to(device)) for us, as well as the backward pass, putting the model in training mode, etc.\n",
        "\n",
        "Notice the difference between a training step and an evaluation step:\n",
        "\n",
        "- a training step only consists of a forward pass, in which we compute the cross-entropy loss between the model's next token predictions and the ground truth (in parallel for all tokens, this technique is known as \"teacher forcing\"). The backward pass is handled by PyTorch Lightning.\n",
        "- an evaluation step consists of making the model autoregressively complete the prompt using the generate() method. After that, we compute an evaluation metric between the predicted sequences and the ground truth ones. This allows us to see how the model is improving over the course of training. The metric we use here is accuracy of answering the question.\n",
        "\n",
        "Besides that, we define the optimizer to use (AdamW is a good default choice) and the data loaders, which use the collate functions defined above to batch together items of the PyTorch datasets. Do note that AdamW is a pretty heavy optimizer in terms of memory requirements, but as we're training with QLoRa we only need to store optimizer states for the adapter layers. For full fine-tuning, one could take a look at more memory friendly optimizers such as 8-bit Adam."
      ]
    },
    {
      "cell_type": "code",
      "execution_count": null,
      "metadata": {
        "id": "WvNdvJ1ylvD2"
      },
      "outputs": [],
      "source": [
        "class VideoLlavaModelPLModule(L.LightningModule):\n",
        "    def __init__(self, config, processor, model):\n",
        "        super().__init__()\n",
        "        self.config = config\n",
        "        self.processor = processor\n",
        "        self.model = model\n",
        "\n",
        "        self.batch_size = config.get(\"batch_size\")\n",
        "\n",
        "    def training_step(self, batch, batch_idx):\n",
        "\n",
        "        input_ids, attention_mask, pixel_values_videos, labels = batch\n",
        "\n",
        "        outputs = self.model(\n",
        "            input_ids=input_ids,\n",
        "            attention_mask=attention_mask,\n",
        "            pixel_values_videos=pixel_values_videos,\n",
        "            labels=labels\n",
        "        )\n",
        "        loss = outputs.loss\n",
        "\n",
        "        self.log(\"train_loss\", loss)\n",
        "\n",
        "        return loss\n",
        "\n",
        "    def validation_step(self, batch, batch_idx, dataset_idx=0):\n",
        "\n",
        "        input_ids, attention_mask, pixel_values_videos, answers = batch\n",
        "\n",
        "        # autoregressively generate token IDs\n",
        "        generated_ids = self.model.generate(\n",
        "            input_ids=input_ids,\n",
        "            attention_mask=attention_mask,\n",
        "            pixel_values_videos=pixel_values_videos,\n",
        "            max_new_tokens=MAX_LENGTH,\n",
        "            do_sample=False,\n",
        "        )\n",
        "        # turn them back into text, chopping of the prompt\n",
        "        predictions = self.processor.batch_decode(generated_ids[:, input_ids.size(1):], skip_special_tokens=True)\n",
        "\n",
        "        correct = 0\n",
        "        for pred, answer in zip(predictions, answers):\n",
        "            correct += (pred.strip().lower() == answer.lower())\n",
        "        self.log(\"val_accuracy\", correct / len(answers))\n",
        "\n",
        "        return correct\n",
        "\n",
        "    def configure_optimizers(self):\n",
        "        # you could also add a learning rate scheduler if you want\n",
        "        optimizer = torch.optim.AdamW(self.parameters(), lr=self.config.get(\"lr\"))\n",
        "\n",
        "        return optimizer\n",
        "\n",
        "    def train_dataloader(self):\n",
        "        return DataLoader(train_dataset, collate_fn=train_collate_fn, batch_size=self.batch_size, shuffle=True, num_workers=4)\n",
        "\n",
        "    def val_dataloader(self):\n",
        "        return DataLoader(eval_dataset, collate_fn=eval_collate_fn, batch_size=self.batch_size, shuffle=False, num_workers=4)"
      ]
    },
    {
      "cell_type": "markdown",
      "metadata": {
        "id": "u6iWFbnQlvD2"
      },
      "source": [
        "Let's instantiate it (based on a config dictionary which defines all hyperparameters for training).\n",
        "\n",
        "The batch size was determined based on the compute available.\n",
        "\n",
        "Do note that one can play around with the hyperparameters, I just use good defaults here: 10 epochs, a learning rate of 1e-4 which I found in the original Idefics2 notebook (linked at the top of this notebook), use mixed precision for training (more memory friendly). One could extend this with things like gradient accumulation and gradient checkpointing.\n",
        "\n",
        "I recommend [this guide](https://huggingface.co/docs/transformers/v4.20.1/en/perf_train_gpu_one) which goes over all tips and tricks regarding maximizing fine-tuning performance on consumer hardware."
      ]
    },
    {
      "cell_type": "code",
      "execution_count": null,
      "metadata": {
        "id": "K2I7vJaDlvD2"
      },
      "outputs": [],
      "source": [
        "config = {\"max_epochs\": 2,\n",
        "          # \"val_check_interval\": 0.2, # how many times we want to validate during an epoch\n",
        "          \"check_val_every_n_epoch\": 1,\n",
        "          \"gradient_clip_val\": 1.0,\n",
        "          \"accumulate_grad_batches\": 8,\n",
        "          \"lr\": 1e-4,\n",
        "          \"batch_size\": 1,\n",
        "          \"num_nodes\": 1,\n",
        "          \"warmup_steps\": 50,\n",
        "}\n",
        "\n",
        "model_module = VideoLlavaModelPLModule(config, processor, model)\n",
        "early_stop_callback = EarlyStopping(monitor=\"val_accuracy\", patience=3, verbose=False, mode=\"min\")"
      ]
    },
    {
      "cell_type": "markdown",
      "metadata": {
        "id": "I-EncDAllvD2"
      },
      "source": [
        "## Define callbacks\n",
        "Optionally, Lightning allows to define so-called [callbacks](https://lightning.ai/docs/pytorch/stable/extensions/callbacks.html), which are arbitrary pieces of code that can be executed during training.\n",
        "\n",
        "Here I'm adding a PushToHubCallback which will push the model to the hub at the end of every epoch as well as at the end of training. Do note that you could of course also pass the private=True flag when pushing to the hub, if you wish to keep your model private. Hugging Face also offers the Enterprise Hub so that you can easily share models with your colleagues privately in a secure way.\n",
        "\n",
        "We'll also use the EarlyStopping callback of Lightning, which will automatically stop training once the evaluation metric (edit distance in our case) doesn't improve after 3 epochs."
      ]
    },
    {
      "cell_type": "code",
      "execution_count": null,
      "metadata": {
        "id": "p2KRo-rclvD2"
      },
      "outputs": [],
      "source": [
        "from huggingface_hub import HfApi\n",
        "\n",
        "api = HfApi()\n",
        "\n",
        "class PushToHubCallback(Callback):\n",
        "    def on_train_epoch_end(self, trainer, pl_module):\n",
        "        print(f\"Pushing model to the hub, epoch {trainer.current_epoch}\")\n",
        "        pl_module.model.push_to_hub(REPO_ID,\n",
        "                                    commit_message=f\"Training in progress, epoch {trainer.current_epoch}\")\n",
        "\n",
        "    def on_train_end(self, trainer, pl_module):\n",
        "        print(f\"Pushing model to the hub after training\")\n",
        "        pl_module.processor.push_to_hub(REPO_ID,\n",
        "                                    commit_message=f\"Training done\")\n",
        "        pl_module.model.push_to_hub(REPO_ID,\n",
        "                                    commit_message=f\"Training done\")\n",
        "\n",
        "early_stop_callback = EarlyStopping(monitor=\"val_edit_distance\", patience=3, verbose=False, mode=\"min\")"
      ]
    },
    {
      "cell_type": "markdown",
      "metadata": {
        "id": "S-ylKSrMlvD2"
      },
      "source": [
        "## Train!\n",
        "Alright, we're set to start training!\n",
        "\n",
        "Do note that this Trainer class supports many more flags! See the [docs](https://lightning.ai/docs/pytorch/stable/api/lightning.pytorch.trainer.trainer.Trainer.html#lightning.pytorch.trainer.trainer.Trainer)"
      ]
    },
    {
      "cell_type": "code",
      "execution_count": null,
      "metadata": {
        "id": "liZhW7NhlvD3",
        "outputId": "16ab8773-d40f-48f7-e485-b3960c2bea47"
      },
      "outputs": [
        {
          "name": "stderr",
          "output_type": "stream",
          "text": [
            "Using 16bit Automatic Mixed Precision (AMP)\n",
            "GPU available: True (cuda), used: True\n",
            "TPU available: False, using: 0 TPU cores\n",
            "IPU available: False, using: 0 IPUs\n",
            "HPU available: False, using: 0 HPUs\n"
          ]
        }
      ],
      "source": [
        "trainer = L.Trainer(\n",
        "        default_root_dir=\"/raid/.cache/huggingface/video_llava_demo\",\n",
        "        accelerator=\"gpu\",\n",
        "        devices=[0],\n",
        "        max_epochs=config.get(\"max_epochs\"),\n",
        "        accumulate_grad_batches=config.get(\"accumulate_grad_batches\"),\n",
        "        check_val_every_n_epoch=config.get(\"check_val_every_n_epoch\"),\n",
        "        gradient_clip_val=config.get(\"gradient_clip_val\"),\n",
        "        precision=\"16-mixed\",\n",
        "        limit_val_batches=5,\n",
        "        num_sanity_val_steps=1,\n",
        "        callbacks=[early_stop_callback, PushToHubCallback()],\n",
        ")"
      ]
    },
    {
      "cell_type": "code",
      "execution_count": null,
      "metadata": {
        "scrolled": true,
        "colab": {
          "referenced_widgets": [
            "",
            "9c99e8a134844fc6bc734868514d92fc"
          ]
        },
        "id": "X1XGM6QflvD3",
        "outputId": "113a2fc3-d7b3-4140-b614-1b46e14b411e"
      },
      "outputs": [
        {
          "name": "stderr",
          "output_type": "stream",
          "text": [
            "You are using a CUDA device ('NVIDIA A100-SXM4-80GB') that has Tensor Cores. To properly utilize them, you should set `torch.set_float32_matmul_precision('medium' | 'high')` which will trade-off precision for performance. For more details, read https://pytorch.org/docs/stable/generated/torch.set_float32_matmul_precision.html#torch.set_float32_matmul_precision\n",
            "Missing logger folder: /raid/.cache/huggingface/video_llava_demo/lightning_logs\n",
            "LOCAL_RANK: 0 - CUDA_VISIBLE_DEVICES: [1]\n",
            "\n",
            "  | Name  | Type      | Params\n",
            "------------------------------------\n",
            "0 | model | PeftModel | 3.8 B \n",
            "------------------------------------\n",
            "22.3 M    Trainable params\n",
            "3.8 B     Non-trainable params\n",
            "3.8 B     Total params\n",
            "15,352.594Total estimated model params size (MB)\n"
          ]
        },
        {
          "data": {
            "application/vnd.jupyter.widget-view+json": {
              "model_id": "",
              "version_major": 2,
              "version_minor": 0
            },
            "text/plain": [
              "Sanity Checking: |                                                                                            …"
            ]
          },
          "metadata": {},
          "output_type": "display_data"
        },
        {
          "name": "stderr",
          "output_type": "stream",
          "text": [
            "/home/raushan/transformers/src/transformers/feature_extraction_utils.py:142: UserWarning: Creating a tensor from a list of numpy.ndarrays is extremely slow. Please consider converting the list to a single numpy.ndarray with numpy.array() before converting to a tensor. (Triggered internally at ../torch/csrc/utils/tensor_new.cpp:275.)\n",
            "  return torch.tensor(value)\n",
            "/home/raushan/transformers/src/transformers/feature_extraction_utils.py:142: UserWarning: Creating a tensor from a list of numpy.ndarrays is extremely slow. Please consider converting the list to a single numpy.ndarray with numpy.array() before converting to a tensor. (Triggered internally at ../torch/csrc/utils/tensor_new.cpp:275.)\n",
            "  return torch.tensor(value)\n",
            "/home/raushan/transformers/src/transformers/feature_extraction_utils.py:142: UserWarning: Creating a tensor from a list of numpy.ndarrays is extremely slow. Please consider converting the list to a single numpy.ndarray with numpy.array() before converting to a tensor. (Triggered internally at ../torch/csrc/utils/tensor_new.cpp:275.)\n",
            "  return torch.tensor(value)\n",
            "/home/raushan/transformers/src/transformers/feature_extraction_utils.py:142: UserWarning: Creating a tensor from a list of numpy.ndarrays is extremely slow. Please consider converting the list to a single numpy.ndarray with numpy.array() before converting to a tensor. (Triggered internally at ../torch/csrc/utils/tensor_new.cpp:275.)\n",
            "  return torch.tensor(value)\n",
            "/home/raushan/env0/lib/python3.8/site-packages/lightning/pytorch/utilities/data.py:77: Trying to infer the `batch_size` from an ambiguous collection. The batch size we found is 1. To avoid any miscalculations, use `self.log(..., batch_size=batch_size)`.\n"
          ]
        },
        {
          "data": {
            "application/vnd.jupyter.widget-view+json": {
              "model_id": "9c99e8a134844fc6bc734868514d92fc",
              "version_major": 2,
              "version_minor": 0
            },
            "text/plain": [
              "Training: |                                                                                                   …"
            ]
          },
          "metadata": {},
          "output_type": "display_data"
        },
        {
          "name": "stderr",
          "output_type": "stream",
          "text": [
            "/home/raushan/transformers/src/transformers/feature_extraction_utils.py:142: UserWarning: Creating a tensor from a list of numpy.ndarrays is extremely slow. Please consider converting the list to a single numpy.ndarray with numpy.array() before converting to a tensor. (Triggered internally at ../torch/csrc/utils/tensor_new.cpp:275.)\n",
            "  return torch.tensor(value)\n",
            "/home/raushan/transformers/src/transformers/feature_extraction_utils.py:142: UserWarning: Creating a tensor from a list of numpy.ndarrays is extremely slow. Please consider converting the list to a single numpy.ndarray with numpy.array() before converting to a tensor. (Triggered internally at ../torch/csrc/utils/tensor_new.cpp:275.)\n",
            "  return torch.tensor(value)\n",
            "/home/raushan/transformers/src/transformers/feature_extraction_utils.py:142: UserWarning: Creating a tensor from a list of numpy.ndarrays is extremely slow. Please consider converting the list to a single numpy.ndarray with numpy.array() before converting to a tensor. (Triggered internally at ../torch/csrc/utils/tensor_new.cpp:275.)\n",
            "  return torch.tensor(value)\n",
            "/home/raushan/transformers/src/transformers/feature_extraction_utils.py:142: UserWarning: Creating a tensor from a list of numpy.ndarrays is extremely slow. Please consider converting the list to a single numpy.ndarray with numpy.array() before converting to a tensor. (Triggered internally at ../torch/csrc/utils/tensor_new.cpp:275.)\n",
            "  return torch.tensor(value)\n"
          ]
        },
        {
          "data": {
            "application/vnd.jupyter.widget-view+json": {
              "model_id": "",
              "version_major": 2,
              "version_minor": 0
            },
            "text/plain": [
              "Validation: |                                                                                                 …"
            ]
          },
          "metadata": {},
          "output_type": "display_data"
        },
        {
          "name": "stderr",
          "output_type": "stream",
          "text": [
            "/home/raushan/transformers/src/transformers/feature_extraction_utils.py:142: UserWarning: Creating a tensor from a list of numpy.ndarrays is extremely slow. Please consider converting the list to a single numpy.ndarray with numpy.array() before converting to a tensor. (Triggered internally at ../torch/csrc/utils/tensor_new.cpp:275.)\n",
            "  return torch.tensor(value)\n",
            "/home/raushan/transformers/src/transformers/feature_extraction_utils.py:142: UserWarning: Creating a tensor from a list of numpy.ndarrays is extremely slow. Please consider converting the list to a single numpy.ndarray with numpy.array() before converting to a tensor. (Triggered internally at ../torch/csrc/utils/tensor_new.cpp:275.)\n",
            "  return torch.tensor(value)\n",
            "/home/raushan/transformers/src/transformers/feature_extraction_utils.py:142: UserWarning: Creating a tensor from a list of numpy.ndarrays is extremely slow. Please consider converting the list to a single numpy.ndarray with numpy.array() before converting to a tensor. (Triggered internally at ../torch/csrc/utils/tensor_new.cpp:275.)\n",
            "  return torch.tensor(value)\n",
            "/home/raushan/transformers/src/transformers/feature_extraction_utils.py:142: UserWarning: Creating a tensor from a list of numpy.ndarrays is extremely slow. Please consider converting the list to a single numpy.ndarray with numpy.array() before converting to a tensor. (Triggered internally at ../torch/csrc/utils/tensor_new.cpp:275.)\n",
            "  return torch.tensor(value)\n",
            "/home/raushan/transformers/src/transformers/feature_extraction_utils.py:142: UserWarning: Creating a tensor from a list of numpy.ndarrays is extremely slow. Please consider converting the list to a single numpy.ndarray with numpy.array() before converting to a tensor. (Triggered internally at ../torch/csrc/utils/tensor_new.cpp:275.)\n",
            "  return torch.tensor(value)\n",
            "/home/raushan/transformers/src/transformers/feature_extraction_utils.py:142: UserWarning: Creating a tensor from a list of numpy.ndarrays is extremely slow. Please consider converting the list to a single numpy.ndarray with numpy.array() before converting to a tensor. (Triggered internally at ../torch/csrc/utils/tensor_new.cpp:275.)\n",
            "  return torch.tensor(value)\n",
            "/home/raushan/transformers/src/transformers/feature_extraction_utils.py:142: UserWarning: Creating a tensor from a list of numpy.ndarrays is extremely slow. Please consider converting the list to a single numpy.ndarray with numpy.array() before converting to a tensor. (Triggered internally at ../torch/csrc/utils/tensor_new.cpp:275.)\n",
            "  return torch.tensor(value)\n",
            "/home/raushan/transformers/src/transformers/feature_extraction_utils.py:142: UserWarning: Creating a tensor from a list of numpy.ndarrays is extremely slow. Please consider converting the list to a single numpy.ndarray with numpy.array() before converting to a tensor. (Triggered internally at ../torch/csrc/utils/tensor_new.cpp:275.)\n",
            "  return torch.tensor(value)\n"
          ]
        },
        {
          "data": {
            "application/vnd.jupyter.widget-view+json": {
              "model_id": "",
              "version_major": 2,
              "version_minor": 0
            },
            "text/plain": [
              "Validation: |                                                                                                 …"
            ]
          },
          "metadata": {},
          "output_type": "display_data"
        },
        {
          "name": "stderr",
          "output_type": "stream",
          "text": [
            "/home/raushan/transformers/src/transformers/feature_extraction_utils.py:142: UserWarning: Creating a tensor from a list of numpy.ndarrays is extremely slow. Please consider converting the list to a single numpy.ndarray with numpy.array() before converting to a tensor. (Triggered internally at ../torch/csrc/utils/tensor_new.cpp:275.)\n",
            "  return torch.tensor(value)\n",
            "/home/raushan/transformers/src/transformers/feature_extraction_utils.py:142: UserWarning: Creating a tensor from a list of numpy.ndarrays is extremely slow. Please consider converting the list to a single numpy.ndarray with numpy.array() before converting to a tensor. (Triggered internally at ../torch/csrc/utils/tensor_new.cpp:275.)\n",
            "  return torch.tensor(value)\n",
            "/home/raushan/transformers/src/transformers/feature_extraction_utils.py:142: UserWarning: Creating a tensor from a list of numpy.ndarrays is extremely slow. Please consider converting the list to a single numpy.ndarray with numpy.array() before converting to a tensor. (Triggered internally at ../torch/csrc/utils/tensor_new.cpp:275.)\n",
            "  return torch.tensor(value)\n",
            "/home/raushan/transformers/src/transformers/feature_extraction_utils.py:142: UserWarning: Creating a tensor from a list of numpy.ndarrays is extremely slow. Please consider converting the list to a single numpy.ndarray with numpy.array() before converting to a tensor. (Triggered internally at ../torch/csrc/utils/tensor_new.cpp:275.)\n",
            "  return torch.tensor(value)\n",
            "`Trainer.fit` stopped: `max_epochs=2` reached.\n"
          ]
        }
      ],
      "source": [
        "trainer.fit(model_module)"
      ]
    },
    {
      "cell_type": "code",
      "execution_count": null,
      "metadata": {
        "id": "z6RpsZBClvD6"
      },
      "outputs": [],
      "source": []
    },
    {
      "cell_type": "markdown",
      "metadata": {
        "id": "hQPiR5IV89qs"
      },
      "source": [
        "## Inference\n",
        "\n",
        "Let's see if the model has learned something. We'll load the model from the hub first. Notice that, as we only trained adapters on top of the base model, the repository on the hub to which we pushed only contains the weights and configuration of the adapters. This is a very lightweight file smaller than 100 MB.\n",
        "\n",
        "Thanks to the PEFT integration in Transformers, the `from_pretrained` method will automatically load the weights of the base model as well as the adapter weights.\n",
        "\n",
        "To reduce inference costs, we'll again load the model in 4 bits by passing a `quantization_config`, in order to reduce memory usage."
      ]
    },
    {
      "cell_type": "code",
      "execution_count": null,
      "metadata": {
        "id": "jc0JHzIY89qs",
        "outputId": "5845f9fb-0296-47b3-ad21-9dec3fb1093e",
        "colab": {
          "referenced_widgets": [
            "245f0d12878c4efc992829d9b3c78288",
            "13b98dae2e714ac3ac1df6963ebca7a2",
            "b4b5698952c2401dabc5924e1cfa1d6d"
          ]
        }
      },
      "outputs": [
        {
          "name": "stderr",
          "output_type": "stream",
          "text": [
            "Special tokens have been added in the vocabulary, make sure the associated word embeddings are fine-tuned or trained.\n"
          ]
        },
        {
          "data": {
            "application/vnd.jupyter.widget-view+json": {
              "model_id": "245f0d12878c4efc992829d9b3c78288",
              "version_major": 2,
              "version_minor": 0
            },
            "text/plain": [
              "adapter_config.json:   0%|          | 0.00/840 [00:00<?, ?B/s]"
            ]
          },
          "metadata": {},
          "output_type": "display_data"
        },
        {
          "name": "stderr",
          "output_type": "stream",
          "text": [
            "The model weights are not tied. Please use the `tie_weights` method before using the `infer_auto_device` function.\n"
          ]
        },
        {
          "data": {
            "application/vnd.jupyter.widget-view+json": {
              "model_id": "13b98dae2e714ac3ac1df6963ebca7a2",
              "version_major": 2,
              "version_minor": 0
            },
            "text/plain": [
              "Loading checkpoint shards:   0%|          | 0/3 [00:00<?, ?it/s]"
            ]
          },
          "metadata": {},
          "output_type": "display_data"
        },
        {
          "data": {
            "application/vnd.jupyter.widget-view+json": {
              "model_id": "b4b5698952c2401dabc5924e1cfa1d6d",
              "version_major": 2,
              "version_minor": 0
            },
            "text/plain": [
              "adapter_model.safetensors:   0%|          | 0.00/89.5M [00:00<?, ?B/s]"
            ]
          },
          "metadata": {},
          "output_type": "display_data"
        }
      ],
      "source": [
        "from transformers import AutoProcessor, BitsAndBytesConfig, VideoLlavaForConditionalGeneration\n",
        "import torch\n",
        "\n",
        "processor = AutoProcessor.from_pretrained(MODEL_ID)\n",
        "\n",
        "# Define quantization config\n",
        "quantization_config = BitsAndBytesConfig(\n",
        "    load_in_4bit=True,\n",
        "    bnb_4bit_quant_type=\"nf4\",\n",
        "    bnb_4bit_compute_dtype=torch.float16,\n",
        ")\n",
        "\n",
        "# Load the base model with adapters on top\n",
        "model = VideoLlavaForConditionalGeneration.from_pretrained(\n",
        "    REPO_ID,\n",
        "    torch_dtype=torch.float16,\n",
        "    quantization_config=quantization_config,\n",
        "    device_map=\"auto\",\n",
        ")"
      ]
    },
    {
      "cell_type": "markdown",
      "metadata": {
        "id": "5Lqxte3U89qs"
      },
      "source": [
        "Now we're ready to perform inference. We'll take a one example from the validation set here and plot 8 frames to see what is happening in the video."
      ]
    },
    {
      "cell_type": "code",
      "execution_count": null,
      "metadata": {
        "id": "BNw1jE0n89qw",
        "outputId": "f93b5f96-8565-4c78-b802-74195ae63d9c"
      },
      "outputs": [
        {
          "data": {
            "image/png": "[encoded data removed]",
            "text/plain": [
              "<Figure size 1000x1000 with 8 Axes>"
            ]
          },
          "metadata": {},
          "output_type": "display_data"
        }
      ],
      "source": [
        "from matplotlib import pyplot as plt\n",
        "from PIL import Image\n",
        "\n",
        "prompt, clip = eval_dataset[1]\n",
        "fig, axarr = plt.subplots(2, 4, figsize = (10, 10))\n",
        "fig.tight_layout()\n",
        "\n",
        "for i in range(2):\n",
        "    for j in range(4):\n",
        "        curr_frame = Image.fromarray(np.uint8(clip[i + j]))\n",
        "        axarr[i, j].imshow(curr_frame)\n",
        "        axarr[i, j].get_xaxis().set_visible(False)\n",
        "        axarr[i, j].get_yaxis().set_visible(False)\n",
        "        axarr[i, j].set_aspect('equal')\n",
        "\n",
        "plt.subplots_adjust(wspace=None, hspace=None)\n",
        "plt.axis('off')\n",
        "plt.show()"
      ]
    },
    {
      "cell_type": "markdown",
      "metadata": {
        "id": "xWWHU1xB89qx"
      },
      "source": [
        "Next we need to prepare the video for the model, along with the text prompt we used during training. We need to apply the chat template to make sure the format is respected.\n",
        "\n",
        "Notice that this is exactly the same as what we did for the evaluation data collate function."
      ]
    },
    {
      "cell_type": "code",
      "execution_count": null,
      "metadata": {
        "id": "BBWCEdiT89qx",
        "outputId": "3d36269e-c9b7-43e2-85ad-1500c62f146d"
      },
      "outputs": [
        {
          "name": "stdout",
          "output_type": "stream",
          "text": [
            "pixel_values_videos torch.Size([1, 8, 3, 224, 224])\n",
            "input_ids torch.Size([1, 94])\n",
            "attention_mask torch.Size([1, 94])\n"
          ]
        }
      ],
      "source": [
        "answer = prompt[-1]\n",
        "prompt = prompt[:-2]\n",
        "\n",
        "inputs = processor(text=prompt, videos=clip, return_tensors=\"pt\").to(model.device)\n",
        "for k,v in inputs.items():\n",
        "    print(k,v.shape)"
      ]
    },
    {
      "cell_type": "markdown",
      "metadata": {
        "id": "w2Brzvy689qx"
      },
      "source": [
        "Next we let the model autoregressively generate tokens using the [generate()](https://huggingface.co/docs/transformers/v4.40.1/en/main_classes/text_generation#transformers.GenerationMixin.generate) method, which is recommended for use at inference time. This method feeds each predicted token back into the model as conditioning for each next time step.\n",
        "\n",
        "Do note that there are various ways of decoding text, here we use greedy decoding which is the default. There are various fancier methods such as beam search and top-k sampling. Refer to [this amazing blog post](https://huggingface.co/blog/how-to-generate) for all details."
      ]
    },
    {
      "cell_type": "code",
      "execution_count": null,
      "metadata": {
        "id": "xFSVXwN889qx"
      },
      "outputs": [],
      "source": [
        "# Generate token IDs\n",
        "generated_ids = model.generate(**inputs, max_new_tokens=MAX_LENGTH)\n",
        "\n",
        "# Decode back into text\n",
        "generated_texts = processor.batch_decode(generated_ids, skip_special_tokens=True)"
      ]
    },
    {
      "cell_type": "code",
      "execution_count": null,
      "metadata": {
        "id": "Bn5yop6589qx",
        "outputId": "537adbf4-56b6-4513-dbb5-58ba0adaa898"
      },
      "outputs": [
        {
          "name": "stdout",
          "output_type": "stream",
          "text": [
            "['USER:  \\nAnswer the following multiple choice question based on the video. Question: What will happen if the sphere is removed?\\n A. The blue cylinder collides with the cyan cylinder; B. The blue cylinder collides with the yellow cylinder; C. The green object collides with the yellow object; D. The blue cylinder collides with the green object; \\n ASSISTANT: Answer: A']\n"
          ]
        }
      ],
      "source": [
        "print(generated_texts)"
      ]
    },
    {
      "cell_type": "code",
      "execution_count": null,
      "metadata": {
        "id": "ELwUILkk89qx",
        "outputId": "e457c0df-f6d6-4193-e2bc-b91410c6179a"
      },
      "outputs": [
        {
          "name": "stdout",
          "output_type": "stream",
          "text": [
            "A\n"
          ]
        }
      ],
      "source": [
        "print(answer)"
      ]
    },
    {
      "cell_type": "code",
      "execution_count": null,
      "metadata": {
        "id": "bKS_QcmX89qx"
      },
      "outputs": [],
      "source": []
    }
  ],
  "metadata": {
    "colab": {
      "provenance": []
    },
    "kernelspec": {
      "display_name": "Python 3 (ipykernel)",
      "language": "python",
      "name": "python3"
    },
    "language_info": {
      "codemirror_mode": {
        "name": "ipython",
        "version": 3
      },
      "file_extension": ".py",
      "mimetype": "text/x-python",
      "name": "python",
      "nbconvert_exporter": "python",
      "pygments_lexer": "ipython3",
      "version": "3.8.10"
    }
  },
  "nbformat": 4,
  "nbformat_minor": 0
}